{
  "nbformat": 4,
  "nbformat_minor": 0,
  "metadata": {
    "colab": {
      "name": "topic_modeling.ipynb",
      "provenance": []
    },
    "kernelspec": {
      "name": "python3",
      "display_name": "Python 3"
    },
    "language_info": {
      "name": "python"
    }
  },
  "cells": [
    {
      "cell_type": "code",
      "metadata": {
        "colab": {
          "base_uri": "https://localhost:8080/"
        },
        "id": "1CJTilw-D5Vj",
        "outputId": "2e8ee232-fcf7-4054-ea92-55b1f08e0563"
      },
      "source": [
        "from google.colab import drive\n",
        "\n",
        "drive.mount('/content/gdrive')"
      ],
      "execution_count": 1,
      "outputs": [
        {
          "output_type": "stream",
          "text": [
            "Drive already mounted at /content/gdrive; to attempt to forcibly remount, call drive.mount(\"/content/gdrive\", force_remount=True).\n"
          ],
          "name": "stdout"
        }
      ]
    },
    {
      "cell_type": "code",
      "metadata": {
        "colab": {
          "base_uri": "https://localhost:8080/"
        },
        "id": "_sgQySGhPQin",
        "outputId": "730f0ac7-85d5-4815-bf31-96870d18f86c"
      },
      "source": [
        "!ls \"/content/gdrive/My Drive/Code for San Jose\""
      ],
      "execution_count": 2,
      "outputs": [
        {
          "output_type": "stream",
          "text": [
            " AlisaViejo_Granicus_01-20-2021.pdf\t Example2.gdoc\n",
            " AlisaViejo_Granicus.pdf\t\t Example2.txt\n",
            "'Copy of pdf_keyword_extraction.ipynb'\t pdf_keyword_extraction.ipynb\n",
            "'Example2 (1).gdoc'\t\t\t topic_modeling.ipynb\n"
          ],
          "name": "stdout"
        }
      ]
    },
    {
      "cell_type": "code",
      "metadata": {
        "colab": {
          "base_uri": "https://localhost:8080/"
        },
        "id": "2oQ2HOlVP9Si",
        "outputId": "72c9911f-e08e-42ab-f153-5411c93af2b4"
      },
      "source": [
        "!pip install PyPDF2"
      ],
      "execution_count": 3,
      "outputs": [
        {
          "output_type": "stream",
          "text": [
            "Requirement already satisfied: PyPDF2 in /usr/local/lib/python3.7/dist-packages (1.26.0)\n"
          ],
          "name": "stdout"
        }
      ]
    },
    {
      "cell_type": "code",
      "metadata": {
        "colab": {
          "base_uri": "https://localhost:8080/"
        },
        "id": "M77fOX23P93u",
        "outputId": "01b29fe0-9dc2-4fa2-cda9-496a317385f1"
      },
      "source": [
        "!pip install textract"
      ],
      "execution_count": 4,
      "outputs": [
        {
          "output_type": "stream",
          "text": [
            "Requirement already satisfied: textract in /usr/local/lib/python3.7/dist-packages (1.6.3)\n",
            "Requirement already satisfied: python-pptx==0.6.18 in /usr/local/lib/python3.7/dist-packages (from textract) (0.6.18)\n",
            "Requirement already satisfied: six==1.12.0 in /usr/local/lib/python3.7/dist-packages (from textract) (1.12.0)\n",
            "Requirement already satisfied: SpeechRecognition==3.8.1 in /usr/local/lib/python3.7/dist-packages (from textract) (3.8.1)\n",
            "Requirement already satisfied: xlrd==1.2.0 in /usr/local/lib/python3.7/dist-packages (from textract) (1.2.0)\n",
            "Requirement already satisfied: pdfminer.six==20181108 in /usr/local/lib/python3.7/dist-packages (from textract) (20181108)\n",
            "Requirement already satisfied: extract-msg==0.23.1 in /usr/local/lib/python3.7/dist-packages (from textract) (0.23.1)\n",
            "Requirement already satisfied: EbookLib==0.17.1 in /usr/local/lib/python3.7/dist-packages (from textract) (0.17.1)\n",
            "Requirement already satisfied: docx2txt==0.8 in /usr/local/lib/python3.7/dist-packages (from textract) (0.8)\n",
            "Requirement already satisfied: chardet==3.0.4 in /usr/local/lib/python3.7/dist-packages (from textract) (3.0.4)\n",
            "Requirement already satisfied: argcomplete==1.10.0 in /usr/local/lib/python3.7/dist-packages (from textract) (1.10.0)\n",
            "Requirement already satisfied: beautifulsoup4==4.8.0 in /usr/local/lib/python3.7/dist-packages (from textract) (4.8.0)\n",
            "Requirement already satisfied: soupsieve>=1.2 in /usr/local/lib/python3.7/dist-packages (from beautifulsoup4==4.8.0->textract) (2.2.1)\n",
            "Requirement already satisfied: lxml in /usr/local/lib/python3.7/dist-packages (from EbookLib==0.17.1->textract) (4.2.6)\n",
            "Requirement already satisfied: tzlocal==1.5.1 in /usr/local/lib/python3.7/dist-packages (from extract-msg==0.23.1->textract) (1.5.1)\n",
            "Requirement already satisfied: olefile==0.46 in /usr/local/lib/python3.7/dist-packages (from extract-msg==0.23.1->textract) (0.46)\n",
            "Requirement already satisfied: imapclient==2.1.0 in /usr/local/lib/python3.7/dist-packages (from extract-msg==0.23.1->textract) (2.1.0)\n",
            "Requirement already satisfied: pycryptodome in /usr/local/lib/python3.7/dist-packages (from pdfminer.six==20181108->textract) (3.10.1)\n",
            "Requirement already satisfied: sortedcontainers in /usr/local/lib/python3.7/dist-packages (from pdfminer.six==20181108->textract) (2.4.0)\n",
            "Requirement already satisfied: Pillow>=3.3.2 in /usr/local/lib/python3.7/dist-packages (from python-pptx==0.6.18->textract) (7.1.2)\n",
            "Requirement already satisfied: XlsxWriter>=0.5.7 in /usr/local/lib/python3.7/dist-packages (from python-pptx==0.6.18->textract) (3.0.1)\n",
            "Requirement already satisfied: pytz in /usr/local/lib/python3.7/dist-packages (from tzlocal==1.5.1->extract-msg==0.23.1->textract) (2018.9)\n"
          ],
          "name": "stdout"
        }
      ]
    },
    {
      "cell_type": "code",
      "metadata": {
        "colab": {
          "base_uri": "https://localhost:8080/"
        },
        "id": "iOpW_vKtQAAo",
        "outputId": "7aeccdb3-7a5e-45c3-ea1b-f4bfd90ea7fa"
      },
      "source": [
        "!pip install regex"
      ],
      "execution_count": 5,
      "outputs": [
        {
          "output_type": "stream",
          "text": [
            "Requirement already satisfied: regex in /usr/local/lib/python3.7/dist-packages (2019.12.20)\n"
          ],
          "name": "stdout"
        }
      ]
    },
    {
      "cell_type": "markdown",
      "metadata": {
        "id": "Uvw4ZIE8QCxO"
      },
      "source": [
        "Part 1: Extract Text from PDF for Processing."
      ]
    },
    {
      "cell_type": "code",
      "metadata": {
        "id": "m2ZmTjdWPYyT"
      },
      "source": [
        "import pandas as pd\n",
        "import numpy as np\n",
        "import PyPDF2\n",
        "import textract\n",
        "import re"
      ],
      "execution_count": 6,
      "outputs": []
    },
    {
      "cell_type": "code",
      "metadata": {
        "colab": {
          "base_uri": "https://localhost:8080/"
        },
        "id": "8KnsKpFIB6QL",
        "outputId": "5f86ddad-719b-45e6-d26d-f6f091df7c1f"
      },
      "source": [
        "import gensim\n",
        "from gensim.utils import simple_preprocess\n",
        "from gensim.parsing.preprocessing import STOPWORDS\n",
        "from nltk.stem import WordNetLemmatizer, SnowballStemmer\n",
        "from nltk.stem.porter import *\n",
        "import numpy as np\n",
        "np.random.seed(2018)\n",
        "import nltk\n",
        "nltk.download('wordnet')"
      ],
      "execution_count": 7,
      "outputs": [
        {
          "output_type": "stream",
          "text": [
            "[nltk_data] Downloading package wordnet to /root/nltk_data...\n",
            "[nltk_data]   Package wordnet is already up-to-date!\n"
          ],
          "name": "stdout"
        },
        {
          "output_type": "execute_result",
          "data": {
            "text/plain": [
              "True"
            ]
          },
          "metadata": {},
          "execution_count": 7
        }
      ]
    },
    {
      "cell_type": "code",
      "metadata": {
        "id": "LLE_MWFnPbuD"
      },
      "source": [
        "filename=\"/content/gdrive/My Drive/Code for San Jose/AlisaViejo_Granicus.pdf\""
      ],
      "execution_count": 8,
      "outputs": []
    },
    {
      "cell_type": "code",
      "metadata": {
        "id": "tQYVjyyE4t6V"
      },
      "source": [
        "pdfFileObj = open(filename,'rb')               #open allows you to read the file\n",
        "pdfReader = PyPDF2.PdfFileReader(pdfFileObj)   #The pdfReader variable is a readable object that will be parsed\n",
        "num_pages = pdfReader.numPages                 #discerning the number of pages will allow us to parse through all the pages\n",
        "\n",
        "\n",
        "count = 0\n",
        "text = \"\"\n",
        "                                                            \n",
        "while count < num_pages:                       #The while loop will read each page\n",
        "    pageObj = pdfReader.getPage(count)\n",
        "    count +=1\n",
        "    text += pageObj.extractText()\n",
        "    \n",
        "#Below if statement exists to check if the above library returned #words. It's done because PyPDF2 cannot read scanned files.\n",
        "\n",
        "if text != \"\":\n",
        "    text = text\n",
        "    \n",
        "#If the above returns as False, we run the OCR library textract to #convert scanned/image based PDF files into text\n",
        "\n",
        "else:\n",
        "    text = textract.process('http://bit.ly/epo_keyword_extraction_document', method='tesseract', language='eng')\n",
        "\n",
        "    # Now we have a text variable which contains all the text derived from our PDF file."
      ],
      "execution_count": 9,
      "outputs": []
    },
    {
      "cell_type": "code",
      "metadata": {
        "id": "hqa6BxLg_oxQ"
      },
      "source": [
        "text = text.encode('ascii','ignore').lower() #Lowercasing each word"
      ],
      "execution_count": 10,
      "outputs": []
    },
    {
      "cell_type": "code",
      "metadata": {
        "id": "pm7-wGn3_uG4"
      },
      "source": [
        "text = text.decode('ISO-8859-1')"
      ],
      "execution_count": 11,
      "outputs": []
    },
    {
      "cell_type": "code",
      "metadata": {
        "colab": {
          "base_uri": "https://localhost:8080/",
          "height": 137
        },
        "id": "syL-f01K_rfS",
        "outputId": "bfac3812-3f47-4cab-9027-f23bfdb00e2d"
      },
      "source": [
        "text"
      ],
      "execution_count": 12,
      "outputs": [
        {
          "output_type": "execute_result",
          "data": {
            "application/vnd.google.colaboratory.intrinsic+json": {
              "type": "string"
            },
            "text/plain": [
              "'city of aliso viejoagenda itemdate:october 21, 2020to:mayor and city council  from:omar dadabhoy, community development director  subject:ordinance amending title 15 of the city of aliso viejo \\nmunicipal code relating to medical uses inthe town \\ncenter commercial (ct) zonerecommended actions:\\n1.find that the proposed amendments are exempt from the california environmental \\nquality act (ceqa) pursuant to section 15061(b)(3) of the state ceqa guidelines, \\nbecause it will not result in a direct or reasonable foreseeable indirect physical change \\nin theenvironment as there is no possibility that it may have a significant effect on the \\nenvironment and because it is not a project as defined in section 15378 of the ceqa \\nguidelines. 2.introduce an ordinance (attachment 1) entitled: \\nan ordinance of the city council of the city of aliso viejo, \\ncalifornia, amending table 15.18.020 of section 15.18.020 of chapter \\n15.18 of the aliso viejo municipal code, permitted uses in \\nnonresidential districts regarding outpatient medical uses in \\nthe town center commercial (ct) zoning district.fiscal impact:nonebackground: at their regularly scheduled meeting on june 17, 2020, the city council directed staff to \\nprepare an ordinance which would limit the amount of medical uses permitted in the town \\ncenter commercial (ct) zone.  the public hearing for the item was opened at the city councils regularly scheduled \\nmeeting on september 16, 2020.  at that meeting, the city council directed staff to make \\ncertain modifications to the ordinance and continued the public hearing to october 21, \\npage 2of 3\\n2020 to allow staff time to complete their research and make recommendations as \\nappropriate. discussion: due to a concern over the citys limited amount of retail space converting into medical \\nuses, the city council directed staff to prepare an ordinance limiting the amount of \\nmedical uses that can be permitted in the town center.  according to research conducted by planning division staff, there is a total of 506,674 \\nsquare feet of building space in the town center commercial (ct) zone.  of the total \\nsquare footage, approximately 10.9% or 55,073 square feet of medical uses have been \\napproved.  of the existing medical uses, 17,171 square feet are located on the first floor \\nand 37,902 square feet are on second and third floors. the original draft ordinance presented to the city council on september 16, 2020, set a \\nmaximum of 60,000 square feet of total medical use space in the ct zone.  during the \\ncourse of that meeting, the city council directed staff to revise the ordinance to limit the \\nsquare footage of medical uses only on the first floor. this would preserve the first floor \\nfor commercial and retail uses, which is their optimal location.  the revised ordinance would set a cap on the total square footage of medical uses \\npermitted on the first floor of buildings within the ct zone to 20,000.  this would allow for \\nsome additional square footage on the first floor either through an expansion of an existing \\nuse or a new user. the cap would be established in table 15.18.020 permitted uses in \\nthe nonresidential districts of the aliso viejo municipal code. an amendment is proposed \\nto footnote 5, which would limit outpatient medical uses in the ct zone to a total of \\n20,000 square feet on the first floor. no limitation would be placed on building space \\nabove the first floor.   environmental:section 15061(b)(3) of the ceqa guidelines establishes a statutory exemption for the \\nadoption of an ordinance because it will not result in a direct or reasonably foreseeable \\nindirection physicalchange in the environment because there is no possibility that it may \\nhave a significant effect on the environment and because it is not a project as the term \\nin defined in section 15378 of the state ceqa guidelines.  the proposed code \\namendment qualifies for this exemption.  public notice:in accordance with the requirements of government code section 65090, the ordinance \\nwas noticed in a newspaper of general circulation.  the original public hearing date was \\nset for september 16, 2020. at that meeting, the city council opened the public hearing \\nand continued the item to a date certain: october 21, 2020. notice of the continued public \\nhearing was posted in accordance withgovernment code section 54955.1.\\npage 3of 3\\ncity attorney:the city attorneys office reviewed and provided comments for this report.  \\nattachment:1.draft ordinance\\n'"
            ]
          },
          "metadata": {},
          "execution_count": 12
        }
      ]
    },
    {
      "cell_type": "code",
      "metadata": {
        "id": "h6fwwOAq_sEl"
      },
      "source": [
        "def lemmatize_stemming(text):\n",
        "  stemmer = SnowballStemmer('english')\n",
        "  return stemmer.stem(WordNetLemmatizer().lemmatize(text, pos='v'))\n",
        "def preprocess(text):\n",
        "    result = []\n",
        "    for token in gensim.utils.simple_preprocess(text):\n",
        "        if token not in gensim.parsing.preprocessing.STOPWORDS and len(token) > 3:\n",
        "            result.append(lemmatize_stemming(token))\n",
        "    return result"
      ],
      "execution_count": 16,
      "outputs": []
    },
    {
      "cell_type": "code",
      "metadata": {
        "colab": {
          "base_uri": "https://localhost:8080/"
        },
        "id": "owla4bfxFdlo",
        "outputId": "1cfbcbd1-a803-4cd2-e667-c5b6fbc1f007"
      },
      "source": [
        "print('original document: ')\n",
        "words = []\n",
        "for word in text.split(' '):\n",
        "    words.append(word)\n",
        "print(words)\n",
        "print('\\n\\n tokenized and lemmatized document: ')\n",
        "print(preprocess(text))"
      ],
      "execution_count": 17,
      "outputs": [
        {
          "output_type": "stream",
          "text": [
            "original document: \n",
            "['city', 'of', 'aliso', 'viejoagenda', 'itemdate:october', '21,', '2020to:mayor', 'and', 'city', 'council', '', 'from:omar', 'dadabhoy,', 'community', 'development', 'director', '', 'subject:ordinance', 'amending', 'title', '15', 'of', 'the', 'city', 'of', 'aliso', 'viejo', '\\nmunicipal', 'code', 'relating', 'to', 'medical', 'uses', 'inthe', 'town', '\\ncenter', 'commercial', '(ct)', 'zonerecommended', 'actions:\\n1.find', 'that', 'the', 'proposed', 'amendments', 'are', 'exempt', 'from', 'the', 'california', 'environmental', '\\nquality', 'act', '(ceqa)', 'pursuant', 'to', 'section', '15061(b)(3)', 'of', 'the', 'state', 'ceqa', 'guidelines,', '\\nbecause', 'it', 'will', 'not', 'result', 'in', 'a', 'direct', 'or', 'reasonable', 'foreseeable', 'indirect', 'physical', 'change', '\\nin', 'theenvironment', 'as', 'there', 'is', 'no', 'possibility', 'that', 'it', 'may', 'have', 'a', 'significant', 'effect', 'on', 'the', '\\nenvironment', 'and', 'because', 'it', 'is', 'not', 'a', 'project', 'as', 'defined', 'in', 'section', '15378', 'of', 'the', 'ceqa', '\\nguidelines.', '2.introduce', 'an', 'ordinance', '(attachment', '1)', 'entitled:', '\\nan', 'ordinance', 'of', 'the', 'city', 'council', 'of', 'the', 'city', 'of', 'aliso', 'viejo,', '\\ncalifornia,', 'amending', 'table', '15.18.020', 'of', 'section', '15.18.020', 'of', 'chapter', '\\n15.18', 'of', 'the', 'aliso', 'viejo', 'municipal', 'code,', 'permitted', 'uses', 'in', '\\nnonresidential', 'districts', 'regarding', 'outpatient', 'medical', 'uses', 'in', '\\nthe', 'town', 'center', 'commercial', '(ct)', 'zoning', 'district.fiscal', 'impact:nonebackground:', 'at', 'their', 'regularly', 'scheduled', 'meeting', 'on', 'june', '17,', '2020,', 'the', 'city', 'council', 'directed', 'staff', 'to', '\\nprepare', 'an', 'ordinance', 'which', 'would', 'limit', 'the', 'amount', 'of', 'medical', 'uses', 'permitted', 'in', 'the', 'town', '\\ncenter', 'commercial', '(ct)', 'zone.', '', 'the', 'public', 'hearing', 'for', 'the', 'item', 'was', 'opened', 'at', 'the', 'city', 'councils', 'regularly', 'scheduled', '\\nmeeting', 'on', 'september', '16,', '2020.', '', 'at', 'that', 'meeting,', 'the', 'city', 'council', 'directed', 'staff', 'to', 'make', '\\ncertain', 'modifications', 'to', 'the', 'ordinance', 'and', 'continued', 'the', 'public', 'hearing', 'to', 'october', '21,', '\\npage', '2of', '3\\n2020', 'to', 'allow', 'staff', 'time', 'to', 'complete', 'their', 'research', 'and', 'make', 'recommendations', 'as', '\\nappropriate.', 'discussion:', 'due', 'to', 'a', 'concern', 'over', 'the', 'citys', 'limited', 'amount', 'of', 'retail', 'space', 'converting', 'into', 'medical', '\\nuses,', 'the', 'city', 'council', 'directed', 'staff', 'to', 'prepare', 'an', 'ordinance', 'limiting', 'the', 'amount', 'of', '\\nmedical', 'uses', 'that', 'can', 'be', 'permitted', 'in', 'the', 'town', 'center.', '', 'according', 'to', 'research', 'conducted', 'by', 'planning', 'division', 'staff,', 'there', 'is', 'a', 'total', 'of', '506,674', '\\nsquare', 'feet', 'of', 'building', 'space', 'in', 'the', 'town', 'center', 'commercial', '(ct)', 'zone.', '', 'of', 'the', 'total', '\\nsquare', 'footage,', 'approximately', '10.9%', 'or', '55,073', 'square', 'feet', 'of', 'medical', 'uses', 'have', 'been', '\\napproved.', '', 'of', 'the', 'existing', 'medical', 'uses,', '17,171', 'square', 'feet', 'are', 'located', 'on', 'the', 'first', 'floor', '\\nand', '37,902', 'square', 'feet', 'are', 'on', 'second', 'and', 'third', 'floors.', 'the', 'original', 'draft', 'ordinance', 'presented', 'to', 'the', 'city', 'council', 'on', 'september', '16,', '2020,', 'set', 'a', '\\nmaximum', 'of', '60,000', 'square', 'feet', 'of', 'total', 'medical', 'use', 'space', 'in', 'the', 'ct', 'zone.', '', 'during', 'the', '\\ncourse', 'of', 'that', 'meeting,', 'the', 'city', 'council', 'directed', 'staff', 'to', 'revise', 'the', 'ordinance', 'to', 'limit', 'the', '\\nsquare', 'footage', 'of', 'medical', 'uses', 'only', 'on', 'the', 'first', 'floor.', 'this', 'would', 'preserve', 'the', 'first', 'floor', '\\nfor', 'commercial', 'and', 'retail', 'uses,', 'which', 'is', 'their', 'optimal', 'location.', '', 'the', 'revised', 'ordinance', 'would', 'set', 'a', 'cap', 'on', 'the', 'total', 'square', 'footage', 'of', 'medical', 'uses', '\\npermitted', 'on', 'the', 'first', 'floor', 'of', 'buildings', 'within', 'the', 'ct', 'zone', 'to', '20,000.', '', 'this', 'would', 'allow', 'for', '\\nsome', 'additional', 'square', 'footage', 'on', 'the', 'first', 'floor', 'either', 'through', 'an', 'expansion', 'of', 'an', 'existing', '\\nuse', 'or', 'a', 'new', 'user.', 'the', 'cap', 'would', 'be', 'established', 'in', 'table', '15.18.020', 'permitted', 'uses', 'in', '\\nthe', 'nonresidential', 'districts', 'of', 'the', 'aliso', 'viejo', 'municipal', 'code.', 'an', 'amendment', 'is', 'proposed', '\\nto', 'footnote', '5,', 'which', 'would', 'limit', 'outpatient', 'medical', 'uses', 'in', 'the', 'ct', 'zone', 'to', 'a', 'total', 'of', '\\n20,000', 'square', 'feet', 'on', 'the', 'first', 'floor.', 'no', 'limitation', 'would', 'be', 'placed', 'on', 'building', 'space', '\\nabove', 'the', 'first', 'floor.', '', '', 'environmental:section', '15061(b)(3)', 'of', 'the', 'ceqa', 'guidelines', 'establishes', 'a', 'statutory', 'exemption', 'for', 'the', '\\nadoption', 'of', 'an', 'ordinance', 'because', 'it', 'will', 'not', 'result', 'in', 'a', 'direct', 'or', 'reasonably', 'foreseeable', '\\nindirection', 'physicalchange', 'in', 'the', 'environment', 'because', 'there', 'is', 'no', 'possibility', 'that', 'it', 'may', '\\nhave', 'a', 'significant', 'effect', 'on', 'the', 'environment', 'and', 'because', 'it', 'is', 'not', 'a', 'project', 'as', 'the', 'term', '\\nin', 'defined', 'in', 'section', '15378', 'of', 'the', 'state', 'ceqa', 'guidelines.', '', 'the', 'proposed', 'code', '\\namendment', 'qualifies', 'for', 'this', 'exemption.', '', 'public', 'notice:in', 'accordance', 'with', 'the', 'requirements', 'of', 'government', 'code', 'section', '65090,', 'the', 'ordinance', '\\nwas', 'noticed', 'in', 'a', 'newspaper', 'of', 'general', 'circulation.', '', 'the', 'original', 'public', 'hearing', 'date', 'was', '\\nset', 'for', 'september', '16,', '2020.', 'at', 'that', 'meeting,', 'the', 'city', 'council', 'opened', 'the', 'public', 'hearing', '\\nand', 'continued', 'the', 'item', 'to', 'a', 'date', 'certain:', 'october', '21,', '2020.', 'notice', 'of', 'the', 'continued', 'public', '\\nhearing', 'was', 'posted', 'in', 'accordance', 'withgovernment', 'code', 'section', '54955.1.\\npage', '3of', '3\\ncity', 'attorney:the', 'city', 'attorneys', 'office', 'reviewed', 'and', 'provided', 'comments', 'for', 'this', 'report.', '', '\\nattachment:1.draft', 'ordinance\\n']\n",
            "\n",
            "\n",
            " tokenized and lemmatized document: \n",
            "['citi', 'aliso', 'viejoagenda', 'itemd', 'octob', 'mayor', 'citi', 'council', 'omar', 'dadabhoy', 'communiti', 'develop', 'director', 'subject', 'ordin', 'amend', 'titl', 'citi', 'aliso', 'viejo', 'municip', 'code', 'relat', 'medic', 'use', 'inth', 'town', 'center', 'commerci', 'zonerecommend', 'action', 'propos', 'amend', 'exempt', 'california', 'environment', 'qualiti', 'ceqa', 'pursuant', 'section', 'state', 'ceqa', 'guidelin', 'result', 'direct', 'reason', 'forese', 'indirect', 'physic', 'chang', 'theenviron', 'possibl', 'signific', 'effect', 'environ', 'project', 'defin', 'section', 'ceqa', 'guidelin', 'introduc', 'ordin', 'attach', 'entitl', 'ordin', 'citi', 'council', 'citi', 'aliso', 'viejo', 'california', 'amend', 'tabl', 'section', 'chapter', 'aliso', 'viejo', 'municip', 'code', 'permit', 'use', 'nonresidenti', 'district', 'outpati', 'medic', 'use', 'town', 'center', 'commerci', 'zone', 'district', 'fiscal', 'impact', 'nonebackground', 'regular', 'schedul', 'meet', 'june', 'citi', 'council', 'direct', 'staff', 'prepar', 'ordin', 'limit', 'medic', 'use', 'permit', 'town', 'center', 'commerci', 'zone', 'public', 'hear', 'item', 'open', 'citi', 'council', 'regular', 'schedul', 'meet', 'septemb', 'meet', 'citi', 'council', 'direct', 'staff', 'certain', 'modif', 'ordin', 'continu', 'public', 'hear', 'octob', 'page', 'allow', 'staff', 'time', 'complet', 'research', 'recommend', 'appropri', 'discuss', 'concern', 'citi', 'limit', 'retail', 'space', 'convert', 'medic', 'use', 'citi', 'council', 'direct', 'staff', 'prepar', 'ordin', 'limit', 'medic', 'use', 'permit', 'town', 'center', 'accord', 'research', 'conduct', 'plan', 'divis', 'staff', 'total', 'squar', 'feet', 'build', 'space', 'town', 'center', 'commerci', 'zone', 'total', 'squar', 'footag', 'approxim', 'squar', 'feet', 'medic', 'use', 'approv', 'exist', 'medic', 'use', 'squar', 'feet', 'locat', 'floor', 'squar', 'feet', 'second', 'floor', 'origin', 'draft', 'ordin', 'present', 'citi', 'council', 'septemb', 'maximum', 'squar', 'feet', 'total', 'medic', 'space', 'zone', 'cours', 'meet', 'citi', 'council', 'direct', 'staff', 'revis', 'ordin', 'limit', 'squar', 'footag', 'medic', 'use', 'floor', 'preserv', 'floor', 'commerci', 'retail', 'use', 'optim', 'locat', 'revis', 'ordin', 'total', 'squar', 'footag', 'medic', 'use', 'permit', 'floor', 'build', 'zone', 'allow', 'addit', 'squar', 'footag', 'floor', 'expans', 'exist', 'user', 'establish', 'tabl', 'permit', 'use', 'nonresidenti', 'district', 'aliso', 'viejo', 'municip', 'code', 'amend', 'propos', 'footnot', 'limit', 'outpati', 'medic', 'use', 'zone', 'total', 'squar', 'feet', 'floor', 'limit', 'place', 'build', 'space', 'floor', 'environment', 'section', 'ceqa', 'guidelin', 'establish', 'statutori', 'exempt', 'adopt', 'ordin', 'result', 'direct', 'reason', 'forese', 'indirect', 'physicalchang', 'environ', 'possibl', 'signific', 'effect', 'environ', 'project', 'term', 'defin', 'section', 'state', 'ceqa', 'guidelin', 'propos', 'code', 'amend', 'qualifi', 'exempt', 'public', 'notic', 'accord', 'requir', 'govern', 'code', 'section', 'ordin', 'notic', 'newspap', 'general', 'circul', 'origin', 'public', 'hear', 'date', 'septemb', 'meet', 'citi', 'council', 'open', 'public', 'hear', 'continu', 'item', 'date', 'certain', 'octob', 'notic', 'continu', 'public', 'hear', 'post', 'accord', 'withgovern', 'code', 'section', 'page', 'citi', 'attorney', 'citi', 'attorney', 'offic', 'review', 'provid', 'comment', 'report', 'attach', 'draft', 'ordin']\n"
          ],
          "name": "stdout"
        }
      ]
    },
    {
      "cell_type": "code",
      "metadata": {
        "id": "fntMoKiNIR60"
      },
      "source": [
        "lem_stem_words = list()\n",
        "lem_stem_words.append(words)"
      ],
      "execution_count": 18,
      "outputs": []
    },
    {
      "cell_type": "code",
      "metadata": {
        "id": "3dDKKTgsIlv_"
      },
      "source": [
        "df = pd.DataFrame(list(set(words)),columns=['keywords'])  #Dataframe with unique keywords to avoid repetition in rows"
      ],
      "execution_count": 21,
      "outputs": []
    },
    {
      "cell_type": "code",
      "metadata": {
        "colab": {
          "base_uri": "https://localhost:8080/",
          "height": 359
        },
        "id": "C1K46xk9IpL7",
        "outputId": "4e031a21-6e69-4587-f29c-5f796ee84f77"
      },
      "source": [
        "df.head(10)"
      ],
      "execution_count": 22,
      "outputs": [
        {
          "output_type": "execute_result",
          "data": {
            "text/html": [
              "<div>\n",
              "<style scoped>\n",
              "    .dataframe tbody tr th:only-of-type {\n",
              "        vertical-align: middle;\n",
              "    }\n",
              "\n",
              "    .dataframe tbody tr th {\n",
              "        vertical-align: top;\n",
              "    }\n",
              "\n",
              "    .dataframe thead th {\n",
              "        text-align: right;\n",
              "    }\n",
              "</style>\n",
              "<table border=\"1\" class=\"dataframe\">\n",
              "  <thead>\n",
              "    <tr style=\"text-align: right;\">\n",
              "      <th></th>\n",
              "      <th>keywords</th>\n",
              "    </tr>\n",
              "  </thead>\n",
              "  <tbody>\n",
              "    <tr>\n",
              "      <th>0</th>\n",
              "      <td></td>\n",
              "    </tr>\n",
              "    <tr>\n",
              "      <th>1</th>\n",
              "      <td>only</td>\n",
              "    </tr>\n",
              "    <tr>\n",
              "      <th>2</th>\n",
              "      <td>exempt</td>\n",
              "    </tr>\n",
              "    <tr>\n",
              "      <th>3</th>\n",
              "      <td>\\nhearing</td>\n",
              "    </tr>\n",
              "    <tr>\n",
              "      <th>4</th>\n",
              "      <td>actions:\\n1.find</td>\n",
              "    </tr>\n",
              "    <tr>\n",
              "      <th>5</th>\n",
              "      <td>(attachment</td>\n",
              "    </tr>\n",
              "    <tr>\n",
              "      <th>6</th>\n",
              "      <td>which</td>\n",
              "    </tr>\n",
              "    <tr>\n",
              "      <th>7</th>\n",
              "      <td>building</td>\n",
              "    </tr>\n",
              "    <tr>\n",
              "      <th>8</th>\n",
              "      <td>17,171</td>\n",
              "    </tr>\n",
              "    <tr>\n",
              "      <th>9</th>\n",
              "      <td>square</td>\n",
              "    </tr>\n",
              "  </tbody>\n",
              "</table>\n",
              "</div>"
            ],
            "text/plain": [
              "           keywords\n",
              "0                  \n",
              "1              only\n",
              "2            exempt\n",
              "3         \\nhearing\n",
              "4  actions:\\n1.find\n",
              "5       (attachment\n",
              "6             which\n",
              "7          building\n",
              "8            17,171\n",
              "9            square"
            ]
          },
          "metadata": {},
          "execution_count": 22
        }
      ]
    },
    {
      "cell_type": "code",
      "metadata": {
        "id": "8JTsRDUcI_Rh"
      },
      "source": [
        "df.to_csv('out.csv', index=False)"
      ],
      "execution_count": 23,
      "outputs": []
    }
  ]
}