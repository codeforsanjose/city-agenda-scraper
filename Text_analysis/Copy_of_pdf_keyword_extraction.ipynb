{
  "nbformat": 4,
  "nbformat_minor": 0,
  "metadata": {
    "colab": {
      "name": "Copy of pdf_keyword_extraction.ipynb",
      "provenance": []
    },
    "kernelspec": {
      "name": "python3",
      "display_name": "Python 3"
    },
    "language_info": {
      "name": "python"
    }
  },
  "cells": [
    {
      "cell_type": "code",
      "metadata": {
        "colab": {
          "base_uri": "https://localhost:8080/"
        },
        "id": "WOIVY9B0zEJc",
        "outputId": "bf3fd05d-4716-415f-ceac-efc845deb39c"
      },
      "source": [
        "!pip install PyPDF2"
      ],
      "execution_count": null,
      "outputs": [
        {
          "output_type": "stream",
          "text": [
            "Collecting PyPDF2\n",
            "\u001b[?25l  Downloading https://files.pythonhosted.org/packages/b4/01/68fcc0d43daf4c6bdbc6b33cc3f77bda531c86b174cac56ef0ffdb96faab/PyPDF2-1.26.0.tar.gz (77kB)\n",
            "\r\u001b[K     |████▎                           | 10kB 11.3MB/s eta 0:00:01\r\u001b[K     |████████▌                       | 20kB 15.8MB/s eta 0:00:01\r\u001b[K     |████████████▊                   | 30kB 15.3MB/s eta 0:00:01\r\u001b[K     |█████████████████               | 40kB 10.7MB/s eta 0:00:01\r\u001b[K     |█████████████████████▏          | 51kB 9.6MB/s eta 0:00:01\r\u001b[K     |█████████████████████████▍      | 61kB 8.2MB/s eta 0:00:01\r\u001b[K     |█████████████████████████████▋  | 71kB 8.6MB/s eta 0:00:01\r\u001b[K     |████████████████████████████████| 81kB 5.0MB/s \n",
            "\u001b[?25hBuilding wheels for collected packages: PyPDF2\n",
            "  Building wheel for PyPDF2 (setup.py) ... \u001b[?25l\u001b[?25hdone\n",
            "  Created wheel for PyPDF2: filename=PyPDF2-1.26.0-cp37-none-any.whl size=61102 sha256=624f6244577526224ae8e0ee0c6ee8acba5362e495efc80d8d032dd8d8104711\n",
            "  Stored in directory: /root/.cache/pip/wheels/53/84/19/35bc977c8bf5f0c23a8a011aa958acd4da4bbd7a229315c1b7\n",
            "Successfully built PyPDF2\n",
            "Installing collected packages: PyPDF2\n",
            "Successfully installed PyPDF2-1.26.0\n"
          ],
          "name": "stdout"
        }
      ]
    },
    {
      "cell_type": "code",
      "metadata": {
        "colab": {
          "base_uri": "https://localhost:8080/",
          "height": 1000
        },
        "id": "_GtDJdepzmoe",
        "outputId": "d3d25433-1062-4527-ab38-7179b53dc310"
      },
      "source": [
        "!pip install textract\n"
      ],
      "execution_count": null,
      "outputs": [
        {
          "output_type": "stream",
          "text": [
            "Collecting textract\n",
            "  Downloading https://files.pythonhosted.org/packages/32/31/ef9451e6e48a1a57e337c5f20d4ef58c1a13d91560d2574c738b1320bb8d/textract-1.6.3-py3-none-any.whl\n",
            "Collecting six==1.12.0\n",
            "  Downloading https://files.pythonhosted.org/packages/73/fb/00a976f728d0d1fecfe898238ce23f502a721c0ac0ecfedb80e0d88c64e9/six-1.12.0-py2.py3-none-any.whl\n",
            "Collecting beautifulsoup4==4.8.0\n",
            "\u001b[?25l  Downloading https://files.pythonhosted.org/packages/1a/b7/34eec2fe5a49718944e215fde81288eec1fa04638aa3fb57c1c6cd0f98c3/beautifulsoup4-4.8.0-py3-none-any.whl (97kB)\n",
            "\u001b[K     |████████████████████████████████| 102kB 5.4MB/s \n",
            "\u001b[?25hCollecting docx2txt==0.8\n",
            "  Downloading https://files.pythonhosted.org/packages/7d/7d/60ee3f2b16d9bfdfa72e8599470a2c1a5b759cb113c6fe1006be28359327/docx2txt-0.8.tar.gz\n",
            "Collecting xlrd==1.2.0\n",
            "\u001b[?25l  Downloading https://files.pythonhosted.org/packages/b0/16/63576a1a001752e34bf8ea62e367997530dc553b689356b9879339cf45a4/xlrd-1.2.0-py2.py3-none-any.whl (103kB)\n",
            "\u001b[K     |████████████████████████████████| 112kB 32.0MB/s \n",
            "\u001b[?25hCollecting extract-msg==0.23.1\n",
            "\u001b[?25l  Downloading https://files.pythonhosted.org/packages/a1/90/84485a914ed90adb5e87df17e626be04162fbba146dfecf34643659a4633/extract_msg-0.23.1-py2.py3-none-any.whl (45kB)\n",
            "\u001b[K     |████████████████████████████████| 51kB 6.3MB/s \n",
            "\u001b[?25hCollecting argcomplete==1.10.0\n",
            "  Downloading https://files.pythonhosted.org/packages/4d/82/f44c9661e479207348a979b1f6f063625d11dc4ca6256af053719bbb0124/argcomplete-1.10.0-py2.py3-none-any.whl\n",
            "Collecting pdfminer.six==20181108\n",
            "\u001b[?25l  Downloading https://files.pythonhosted.org/packages/8a/fd/6e8746e6965d1a7ea8e97253e3d79e625da5547e8f376f88de5d024bacb9/pdfminer.six-20181108-py2.py3-none-any.whl (5.6MB)\n",
            "\u001b[K     |████████████████████████████████| 5.6MB 42.5MB/s \n",
            "\u001b[?25hCollecting python-pptx==0.6.18\n",
            "\u001b[?25l  Downloading https://files.pythonhosted.org/packages/bf/86/eb979f7b0333ec769041aae36df8b9f1bd8bea5bbad44620663890dce561/python-pptx-0.6.18.tar.gz (8.9MB)\n",
            "\u001b[K     |████████████████████████████████| 8.9MB 24.4MB/s \n",
            "\u001b[?25hRequirement already satisfied: chardet==3.0.4 in /usr/local/lib/python3.7/dist-packages (from textract) (3.0.4)\n",
            "Collecting SpeechRecognition==3.8.1\n",
            "\u001b[?25l  Downloading https://files.pythonhosted.org/packages/26/e1/7f5678cd94ec1234269d23756dbdaa4c8cfaed973412f88ae8adf7893a50/SpeechRecognition-3.8.1-py2.py3-none-any.whl (32.8MB)\n",
            "\u001b[K     |████████████████████████████████| 32.8MB 88kB/s \n",
            "\u001b[?25hCollecting EbookLib==0.17.1\n",
            "\u001b[?25l  Downloading https://files.pythonhosted.org/packages/00/38/7d6ab2e569a9165249619d73b7bc6be0e713a899a3bc2513814b6598a84c/EbookLib-0.17.1.tar.gz (111kB)\n",
            "\u001b[K     |████████████████████████████████| 112kB 43.7MB/s \n",
            "\u001b[?25hCollecting soupsieve>=1.2\n",
            "  Downloading https://files.pythonhosted.org/packages/36/69/d82d04022f02733bf9a72bc3b96332d360c0c5307096d76f6bb7489f7e57/soupsieve-2.2.1-py3-none-any.whl\n",
            "Collecting olefile==0.46\n",
            "\u001b[?25l  Downloading https://files.pythonhosted.org/packages/34/81/e1ac43c6b45b4c5f8d9352396a14144bba52c8fec72a80f425f6a4d653ad/olefile-0.46.zip (112kB)\n",
            "\u001b[K     |████████████████████████████████| 112kB 35.6MB/s \n",
            "\u001b[?25hRequirement already satisfied: tzlocal==1.5.1 in /usr/local/lib/python3.7/dist-packages (from extract-msg==0.23.1->textract) (1.5.1)\n",
            "Collecting imapclient==2.1.0\n",
            "\u001b[?25l  Downloading https://files.pythonhosted.org/packages/dc/39/e1c2c2c6e2356ab6ea81fcfc0a74b044b311d6a91a45300811d9a6077ef7/IMAPClient-2.1.0-py2.py3-none-any.whl (73kB)\n",
            "\u001b[K     |████████████████████████████████| 81kB 8.3MB/s \n",
            "\u001b[?25hCollecting pycryptodome\n",
            "\u001b[?25l  Downloading https://files.pythonhosted.org/packages/ad/16/9627ab0493894a11c68e46000dbcc82f578c8ff06bc2980dcd016aea9bd3/pycryptodome-3.10.1-cp35-abi3-manylinux2010_x86_64.whl (1.9MB)\n",
            "\u001b[K     |████████████████████████████████| 1.9MB 28.4MB/s \n",
            "\u001b[?25hRequirement already satisfied: sortedcontainers in /usr/local/lib/python3.7/dist-packages (from pdfminer.six==20181108->textract) (2.4.0)\n",
            "Requirement already satisfied: lxml>=3.1.0 in /usr/local/lib/python3.7/dist-packages (from python-pptx==0.6.18->textract) (4.2.6)\n",
            "Requirement already satisfied: Pillow>=3.3.2 in /usr/local/lib/python3.7/dist-packages (from python-pptx==0.6.18->textract) (7.1.2)\n",
            "Collecting XlsxWriter>=0.5.7\n",
            "\u001b[?25l  Downloading https://files.pythonhosted.org/packages/93/51/11cb4545e95f1a845a6ca5475eb425272dc32c2f0e3592d80e7abd491374/XlsxWriter-1.4.4-py2.py3-none-any.whl (149kB)\n",
            "\u001b[K     |████████████████████████████████| 153kB 45.5MB/s \n",
            "\u001b[?25hRequirement already satisfied: pytz in /usr/local/lib/python3.7/dist-packages (from tzlocal==1.5.1->extract-msg==0.23.1->textract) (2018.9)\n",
            "Building wheels for collected packages: docx2txt, python-pptx, EbookLib, olefile\n",
            "  Building wheel for docx2txt (setup.py) ... \u001b[?25l\u001b[?25hdone\n",
            "  Created wheel for docx2txt: filename=docx2txt-0.8-cp37-none-any.whl size=3981 sha256=9612d6e34b064ce5fd6411ca121225ce6b456b0946d9d740697342419f830b52\n",
            "  Stored in directory: /root/.cache/pip/wheels/b2/1f/26/a051209bbb77fc6bcfae2bb7e01fa0ff941b82292ab084d596\n",
            "  Building wheel for python-pptx (setup.py) ... \u001b[?25l\u001b[?25hdone\n",
            "  Created wheel for python-pptx: filename=python_pptx-0.6.18-cp37-none-any.whl size=275504 sha256=38b3ea88085fff31c524ac0d8fa5afec9bee6183aea1243bcdc41c80254cf512\n",
            "  Stored in directory: /root/.cache/pip/wheels/1f/1f/2c/29acca422b420a0b5210bd2cd7e9669804520d602d2462f20b\n",
            "  Building wheel for EbookLib (setup.py) ... \u001b[?25l\u001b[?25hdone\n",
            "  Created wheel for EbookLib: filename=EbookLib-0.17.1-cp37-none-any.whl size=38187 sha256=1f663f97d9f1c7a375baaef859b65b3eccb80fc1d0b13bcd41f49803a0d338ef\n",
            "  Stored in directory: /root/.cache/pip/wheels/84/11/01/951369cbbf8f96878786a1f4da68bd7ac19a5d945b38e03d54\n",
            "  Building wheel for olefile (setup.py) ... \u001b[?25l\u001b[?25hdone\n",
            "  Created wheel for olefile: filename=olefile-0.46-py2.py3-none-any.whl size=35431 sha256=b70377b0ccdde6ebc54315888093af4ec482f256cf04a04ace52d10cb58ab42b\n",
            "  Stored in directory: /root/.cache/pip/wheels/4b/f4/11/bc4166107c27f07fd7bba707ffcb439619197638a1ac986df3\n",
            "Successfully built docx2txt python-pptx EbookLib olefile\n",
            "\u001b[31mERROR: tensorflow 2.5.0 has requirement six~=1.15.0, but you'll have six 1.12.0 which is incompatible.\u001b[0m\n",
            "\u001b[31mERROR: google-colab 1.0.0 has requirement six~=1.15.0, but you'll have six 1.12.0 which is incompatible.\u001b[0m\n",
            "\u001b[31mERROR: google-api-python-client 1.12.8 has requirement six<2dev,>=1.13.0, but you'll have six 1.12.0 which is incompatible.\u001b[0m\n",
            "\u001b[31mERROR: google-api-core 1.26.3 has requirement six>=1.13.0, but you'll have six 1.12.0 which is incompatible.\u001b[0m\n",
            "\u001b[31mERROR: datascience 0.10.6 has requirement folium==0.2.1, but you'll have folium 0.8.3 which is incompatible.\u001b[0m\n",
            "\u001b[31mERROR: albumentations 0.1.12 has requirement imgaug<0.2.7,>=0.2.5, but you'll have imgaug 0.2.9 which is incompatible.\u001b[0m\n",
            "Installing collected packages: six, soupsieve, beautifulsoup4, docx2txt, xlrd, olefile, imapclient, extract-msg, argcomplete, pycryptodome, pdfminer.six, XlsxWriter, python-pptx, SpeechRecognition, EbookLib, textract\n",
            "  Found existing installation: six 1.15.0\n",
            "    Uninstalling six-1.15.0:\n",
            "      Successfully uninstalled six-1.15.0\n",
            "  Found existing installation: beautifulsoup4 4.6.3\n",
            "    Uninstalling beautifulsoup4-4.6.3:\n",
            "      Successfully uninstalled beautifulsoup4-4.6.3\n",
            "  Found existing installation: xlrd 1.1.0\n",
            "    Uninstalling xlrd-1.1.0:\n",
            "      Successfully uninstalled xlrd-1.1.0\n",
            "Successfully installed EbookLib-0.17.1 SpeechRecognition-3.8.1 XlsxWriter-1.4.4 argcomplete-1.10.0 beautifulsoup4-4.8.0 docx2txt-0.8 extract-msg-0.23.1 imapclient-2.1.0 olefile-0.46 pdfminer.six-20181108 pycryptodome-3.10.1 python-pptx-0.6.18 six-1.12.0 soupsieve-2.2.1 textract-1.6.3 xlrd-1.2.0\n"
          ],
          "name": "stdout"
        },
        {
          "output_type": "display_data",
          "data": {
            "application/vnd.colab-display-data+json": {
              "pip_warning": {
                "packages": [
                  "six"
                ]
              }
            }
          },
          "metadata": {
            "tags": []
          }
        }
      ]
    },
    {
      "cell_type": "code",
      "metadata": {
        "colab": {
          "base_uri": "https://localhost:8080/"
        },
        "id": "uWw1xX92zq0d",
        "outputId": "5e5a86a6-ddb5-499c-cfac-7cf154caeb0b"
      },
      "source": [
        "!pip install regex"
      ],
      "execution_count": null,
      "outputs": [
        {
          "output_type": "stream",
          "text": [
            "Requirement already satisfied: regex in /usr/local/lib/python3.7/dist-packages (2019.12.20)\n"
          ],
          "name": "stdout"
        }
      ]
    },
    {
      "cell_type": "code",
      "metadata": {
        "colab": {
          "base_uri": "https://localhost:8080/"
        },
        "id": "3JboQe5udC8v",
        "outputId": "7a6b600c-3acd-4394-e888-bbc48b757d16"
      },
      "source": [
        "!pip install pyenchant"
      ],
      "execution_count": null,
      "outputs": [
        {
          "output_type": "stream",
          "text": [
            "Collecting pyenchant\n",
            "\u001b[?25l  Downloading https://files.pythonhosted.org/packages/76/f1/162fc6975068098e3327358216b70bbecba1d8004438c3bc8fe9f9378a89/pyenchant-3.2.1-py3-none-any.whl (55kB)\n",
            "\r\u001b[K     |█████▉                          | 10kB 12.5MB/s eta 0:00:01\r\u001b[K     |███████████▊                    | 20kB 18.7MB/s eta 0:00:01\r\u001b[K     |█████████████████▋              | 30kB 19.8MB/s eta 0:00:01\r\u001b[K     |███████████████████████▌        | 40kB 15.8MB/s eta 0:00:01\r\u001b[K     |█████████████████████████████▍  | 51kB 8.0MB/s eta 0:00:01\r\u001b[K     |████████████████████████████████| 61kB 4.4MB/s \n",
            "\u001b[?25hInstalling collected packages: pyenchant\n",
            "Successfully installed pyenchant-3.2.1\n"
          ],
          "name": "stdout"
        }
      ]
    },
    {
      "cell_type": "code",
      "metadata": {
        "id": "uMJG6skWzz0X",
        "colab": {
          "base_uri": "https://localhost:8080/"
        },
        "outputId": "f6e7e533-1377-4afd-e0c2-695ac44225c5"
      },
      "source": [
        "from google.colab import drive\n",
        "\n",
        "drive.mount('/content/gdrive')"
      ],
      "execution_count": null,
      "outputs": [
        {
          "output_type": "stream",
          "text": [
            "Mounted at /content/gdrive\n"
          ],
          "name": "stdout"
        }
      ]
    },
    {
      "cell_type": "code",
      "metadata": {
        "colab": {
          "base_uri": "https://localhost:8080/"
        },
        "id": "vwLmgwPG0hix",
        "outputId": "c74e79c4-c6f4-4a7c-9747-c8ef24a140eb"
      },
      "source": [
        "!ls \"/content/gdrive/MyDrive/CFSJ/San_Mateo_City_Council_Audit_Committee_Special_Meeting_2021-03-11_2057.pdf\""
      ],
      "execution_count": null,
      "outputs": [
        {
          "output_type": "stream",
          "text": [
            "/content/gdrive/MyDrive/CFSJ/San_Mateo_City_Council_Audit_Committee_Special_Meeting_2021-03-11_2057.pdf\n"
          ],
          "name": "stdout"
        }
      ]
    },
    {
      "cell_type": "code",
      "metadata": {
        "id": "wxpVrf6g0xkx"
      },
      "source": [
        "import pandas as pd\n",
        "import numpy as np\n",
        "import PyPDF2\n",
        "import textract\n",
        "import re\n",
        "import nltk\n",
        "from nltk.corpus import words\n"
      ],
      "execution_count": null,
      "outputs": []
    },
    {
      "cell_type": "code",
      "metadata": {
        "id": "hNVgX4RR0uVu"
      },
      "source": [
        "filename=\"/content/gdrive/MyDrive/CFSJ/San_Mateo_City_Council_Audit_Committee_Special_Meeting_2021-03-11_2057.pdf\""
      ],
      "execution_count": null,
      "outputs": []
    },
    {
      "cell_type": "code",
      "metadata": {
        "id": "j4zvHBVe007N"
      },
      "source": [
        "pdfFileObj = open(filename,'rb')               #open allows you to read the file\n",
        "pdfReader = PyPDF2.PdfFileReader(pdfFileObj)   #The pdfReader variable is a readable object that will be parsed\n",
        "num_pages = pdfReader.numPages                 #discerning the number of pages will allow us to parse through all the pages\n",
        "\n",
        "\n",
        "count = 0\n",
        "original_text = \"\"\n",
        "                                                            \n",
        "while count < num_pages:                       #The while loop will read each page\n",
        "    pageObj = pdfReader.getPage(count)\n",
        "    count +=1\n",
        "    original_text += pageObj.extractText()\n",
        "    \n",
        "#Below if statement exists to check if the above library returned #words. It's done because PyPDF2 cannot read scanned files.\n",
        "\n",
        "if original_text != \"\":\n",
        "    original_text = original_text\n",
        "    \n",
        "#If the above returns as False, we run the OCR library textract to #convert scanned/image based PDF files into text\n",
        "\n",
        "else:\n",
        "    original_text = textract.process('http://bit.ly/epo_keyword_extraction_document', method='tesseract', language='eng')\n",
        "\n",
        "    # Now we have a text variable which contains all the text derived from our PDF file."
      ],
      "execution_count": null,
      "outputs": []
    },
    {
      "cell_type": "code",
      "metadata": {
        "id": "w_NUJ3jc1EWQ"
      },
      "source": [
        "original_text = original_text.encode('ascii','ignore').lower() #Lowercasing each word"
      ],
      "execution_count": null,
      "outputs": []
    },
    {
      "cell_type": "code",
      "metadata": {
        "colab": {
          "base_uri": "https://localhost:8080/"
        },
        "id": "1FQRf0FS1SXc",
        "outputId": "d6ac88c7-1035-43b7-c35c-5f30f6ada21e"
      },
      "source": [
        "original_text"
      ],
      "execution_count": null,
      "outputs": [
        {
          "output_type": "execute_result",
          "data": {
            "text/plain": [
              "b'city of san mateo\\n2\\n0\\n5\\n7\\ncity of san mateo\\nagenda report\\ncity\\n \\nhall\\n330\\n \\nw.\\n \\n20th\\n \\navenue\\nsan\\n \\nmateo\\n \\nca\\n \\n94403\\nwww.cityofsanmateo.org\\nagenda number:  1\\nsection name: {{section.name}}\\nfile id: {{item.tracking_number}}\\nto\\n:city council audit committee\\nfrom\\n:rich lee\\nprepared by\\n:finance department\\nmeeting date\\n:march 11, 2021\\n \\nsubject\\n:\\nindependent audit services  agreement\\nrecommendation:\\nrecommend that the city council authorize the finance director to execute an agreement with the pun group llp for \\nindependent audit services in substantially the form presented.\\nbackground:\\nthe city of san mateo (city) released a request for proposals (rfp) for audit services on december 1, 2020 and sent direct \\nsolicitations to eight professional certified public accountant (cpa) firms that provide audit services to local government \\nentities. the city received five responses to the rfp. an internal evaluation panel consisting of the finance director, \\naccounting manager, and two senior accountants conducted an initial review of the proposals based on criteria \\nestablished in the rfp, including responsiveness to the rfp, proposed audit procedures, and firm qualifications and \\nexperience to identify the top three firms to invite to the interview process. \\ninterviews were conducted on january 26, 2021 with the top three firms. the evaluation panel was expanded to include \\nthe debt & treasury manager and the acting budget manager for the interviews. based on the evaluation panel scores, \\nadditional due diligence was conducted with reference checks and follow up interviews with the top two cpa firms. based \\non the responses during the follow up interview, responses from reference municipalities, and evaluation panel scores, \\nstaff recommends the pun group as the preferred cpa firm. \\nbudget impact:\\nthe total cost for the scope of audit services for the city is as follows for the five year term: \\nfiscal year (fy) 2020-21: $67,000.00; \\nfy 2021-22: $68,340.00; \\nfy 2022-23: $69,706.80 \\nfy 2023-24: $71,100.93\\nfy 2024-25: $72,522.95 \\nthe san mateo consolidated fire department and san mateo-foster city public financing authority will be executing \\nseparate agreements with the pun group, thus their costs are excluded from the above amounts.\\nenvironmental determination:\\nthis agreement is not a project subject to ceqa, because it is an organizational or administrative activity that will not \\nresult in direct or indirect physical changes in the environment. (ceqa guidelines section 15378(b)(5).)\\ncity of san mateo\\n2\\n0\\n5\\n7\\nnotice provided\\nall meeting noticing requirements were met.\\nattachments\\natt 1 - agreement\\nstaff contact\\nrich lee, director, finance\\nrlee@cityofsanmateo.org\\n(650) 522-7102\\n'"
            ]
          },
          "metadata": {
            "tags": []
          },
          "execution_count": 309
        }
      ]
    },
    {
      "cell_type": "code",
      "metadata": {
        "id": "tTALJ5fo2EZe",
        "colab": {
          "base_uri": "https://localhost:8080/",
          "height": 103
        },
        "outputId": "16674afb-e706-41b9-a34a-246e92088caa"
      },
      "source": [
        "original_text = original_text.decode('ISO-8859-1')\n",
        "original_text = original_text.replace(\"\\n\", \" \")\n",
        "original_text"
      ],
      "execution_count": null,
      "outputs": [
        {
          "output_type": "execute_result",
          "data": {
            "application/vnd.google.colaboratory.intrinsic+json": {
              "type": "string"
            },
            "text/plain": [
              "'city of san mateo 2 0 5 7 city of san mateo agenda report city   hall 330   w.   20th   avenue san   mateo   ca   94403 www.cityofsanmateo.org agenda number:  1 section name: {{section.name}} file id: {{item.tracking_number}} to :city council audit committee from :rich lee prepared by :finance department meeting date :march 11, 2021   subject : independent audit services  agreement recommendation: recommend that the city council authorize the finance director to execute an agreement with the pun group llp for  independent audit services in substantially the form presented. background: the city of san mateo (city) released a request for proposals (rfp) for audit services on december 1, 2020 and sent direct  solicitations to eight professional certified public accountant (cpa) firms that provide audit services to local government  entities. the city received five responses to the rfp. an internal evaluation panel consisting of the finance director,  accounting manager, and two senior accountants conducted an initial review of the proposals based on criteria  established in the rfp, including responsiveness to the rfp, proposed audit procedures, and firm qualifications and  experience to identify the top three firms to invite to the interview process.  interviews were conducted on january 26, 2021 with the top three firms. the evaluation panel was expanded to include  the debt & treasury manager and the acting budget manager for the interviews. based on the evaluation panel scores,  additional due diligence was conducted with reference checks and follow up interviews with the top two cpa firms. based  on the responses during the follow up interview, responses from reference municipalities, and evaluation panel scores,  staff recommends the pun group as the preferred cpa firm.  budget impact: the total cost for the scope of audit services for the city is as follows for the five year term:  fiscal year (fy) 2020-21: $67,000.00;  fy 2021-22: $68,340.00;  fy 2022-23: $69,706.80  fy 2023-24: $71,100.93 fy 2024-25: $72,522.95  the san mateo consolidated fire department and san mateo-foster city public financing authority will be executing  separate agreements with the pun group, thus their costs are excluded from the above amounts. environmental determination: this agreement is not a project subject to ceqa, because it is an organizational or administrative activity that will not  result in direct or indirect physical changes in the environment. (ceqa guidelines section 15378(b)(5).) city of san mateo 2 0 5 7 notice provided all meeting noticing requirements were met. attachments att 1 - agreement staff contact rich lee, director, finance rlee@cityofsanmateo.org (650) 522-7102 '"
            ]
          },
          "metadata": {
            "tags": []
          },
          "execution_count": 310
        }
      ]
    },
    {
      "cell_type": "code",
      "metadata": {
        "colab": {
          "base_uri": "https://localhost:8080/",
          "height": 103
        },
        "id": "kSgwYtDGYpgH",
        "outputId": "2d80ff3d-463b-4b5f-8db7-f3cc488c5c10"
      },
      "source": [
        "\n",
        "text_without_stopwords = ''\n",
        "stopwords = nltk.corpus.stopwords.words('english')\n",
        "stopwords.extend([\"city\",\"audit\",\"staff\",\"meeting\",\"council\"])\n",
        "for word in original_text.split():\n",
        "  if not word in stopwords:\n",
        "    if word in words.words():\n",
        "      text_without_stopwords += word + \" \"\n",
        "text_without_stopwords"
      ],
      "execution_count": null,
      "outputs": [
        {
          "output_type": "execute_result",
          "data": {
            "application/vnd.google.colaboratory.intrinsic+json": {
              "type": "string"
            },
            "text/plain": [
              "'san san agenda report hall avenue san ca agenda section file committee lee prepared department date subject independent agreement recommend authorize finance director execute agreement pun group independent substantially form san request sent direct eight professional certified public accountant provide local government received five internal evaluation panel finance accounting two senior initial review based criteria established responsiveness firm experience identify top three invite interview top three evaluation panel expanded include debt treasury manager acting budget manager based evaluation panel additional due diligence reference follow top two based follow reference evaluation panel pun group preferred budget total cost scope five year fiscal year san consolidated fire department san public authority separate pun thus environmental agreement project subject organizational administrative activity result direct indirect physical section san notice provided agreement contact rich finance '"
            ]
          },
          "metadata": {
            "tags": []
          },
          "execution_count": 336
        }
      ]
    },
    {
      "cell_type": "code",
      "metadata": {
        "colab": {
          "base_uri": "https://localhost:8080/",
          "height": 103
        },
        "id": "H-bX8R0_l_-7",
        "outputId": "b2d59bb0-4627-4882-8bfd-e84a237c3641"
      },
      "source": [
        "stopwords = nltk.corpus.stopwords.words('english')\n",
        "stopwords.extend([\"city\",\"audit\",\"staff\",\"meeting\",\"council\"])\n",
        "text_without_stopwords = ' '.join([word for word in original_text.split() if word not in stopwords])\n",
        "text_without_stopwords"
      ],
      "execution_count": null,
      "outputs": [
        {
          "output_type": "execute_result",
          "data": {
            "application/vnd.google.colaboratory.intrinsic+json": {
              "type": "string"
            },
            "text/plain": [
              "'san mateo 2 0 5 7 san mateo agenda report hall 330 w. 20th avenue san mateo ca 94403 www.cityofsanmateo.org agenda number: 1 section name: {{section.name}} file id: {{item.tracking_number}} :city committee :rich lee prepared :finance department date :march 11, 2021 subject : independent services agreement recommendation: recommend authorize finance director execute agreement pun group llp independent services substantially form presented. background: san mateo (city) released request proposals (rfp) services december 1, 2020 sent direct solicitations eight professional certified public accountant (cpa) firms provide services local government entities. received five responses rfp. internal evaluation panel consisting finance director, accounting manager, two senior accountants conducted initial review proposals based criteria established rfp, including responsiveness rfp, proposed procedures, firm qualifications experience identify top three firms invite interview process. interviews conducted january 26, 2021 top three firms. evaluation panel expanded include debt & treasury manager acting budget manager interviews. based evaluation panel scores, additional due diligence conducted reference checks follow interviews top two cpa firms. based responses follow interview, responses reference municipalities, evaluation panel scores, recommends pun group preferred cpa firm. budget impact: total cost scope services follows five year term: fiscal year (fy) 2020-21: $67,000.00; fy 2021-22: $68,340.00; fy 2022-23: $69,706.80 fy 2023-24: $71,100.93 fy 2024-25: $72,522.95 san mateo consolidated fire department san mateo-foster public financing authority executing separate agreements pun group, thus costs excluded amounts. environmental determination: agreement project subject ceqa, organizational administrative activity result direct indirect physical changes environment. (ceqa guidelines section 15378(b)(5).) san mateo 2 0 5 7 notice provided noticing requirements met. attachments att 1 - agreement contact rich lee, director, finance rlee@cityofsanmateo.org (650) 522-7102'"
            ]
          },
          "metadata": {
            "tags": []
          },
          "execution_count": 371
        }
      ]
    },
    {
      "cell_type": "code",
      "metadata": {
        "id": "2CHqiE0T1H2m"
      },
      "source": [
        "keywords = re.findall(r'[a-zA-Z]\\w+',text_without_stopwords) \n"
      ],
      "execution_count": null,
      "outputs": []
    },
    {
      "cell_type": "code",
      "metadata": {
        "id": "rfImL3zs2KIV"
      },
      "source": [
        "df = pd.DataFrame(list(set(keywords)),columns=['keywords'])  #Dataframe with unique keywords to avoid repetition in rows\n"
      ],
      "execution_count": null,
      "outputs": []
    },
    {
      "cell_type": "code",
      "metadata": {
        "id": "PJ6MCgVU2MTF",
        "colab": {
          "base_uri": "https://localhost:8080/",
          "height": 359
        },
        "outputId": "1746e7e3-18b9-45dd-abd5-48ea55dc304f"
      },
      "source": [
        "df.head(10)"
      ],
      "execution_count": null,
      "outputs": [
        {
          "output_type": "execute_result",
          "data": {
            "text/html": [
              "<div>\n",
              "<style scoped>\n",
              "    .dataframe tbody tr th:only-of-type {\n",
              "        vertical-align: middle;\n",
              "    }\n",
              "\n",
              "    .dataframe tbody tr th {\n",
              "        vertical-align: top;\n",
              "    }\n",
              "\n",
              "    .dataframe thead th {\n",
              "        text-align: right;\n",
              "    }\n",
              "</style>\n",
              "<table border=\"1\" class=\"dataframe\">\n",
              "  <thead>\n",
              "    <tr style=\"text-align: right;\">\n",
              "      <th></th>\n",
              "      <th>keywords</th>\n",
              "    </tr>\n",
              "  </thead>\n",
              "  <tbody>\n",
              "    <tr>\n",
              "      <th>0</th>\n",
              "      <td>total</td>\n",
              "    </tr>\n",
              "    <tr>\n",
              "      <th>1</th>\n",
              "      <td>form</td>\n",
              "    </tr>\n",
              "    <tr>\n",
              "      <th>2</th>\n",
              "      <td>administrative</td>\n",
              "    </tr>\n",
              "    <tr>\n",
              "      <th>3</th>\n",
              "      <td>subject</td>\n",
              "    </tr>\n",
              "    <tr>\n",
              "      <th>4</th>\n",
              "      <td>provided</td>\n",
              "    </tr>\n",
              "    <tr>\n",
              "      <th>5</th>\n",
              "      <td>responsiveness</td>\n",
              "    </tr>\n",
              "    <tr>\n",
              "      <th>6</th>\n",
              "      <td>budget</td>\n",
              "    </tr>\n",
              "    <tr>\n",
              "      <th>7</th>\n",
              "      <td>agenda</td>\n",
              "    </tr>\n",
              "    <tr>\n",
              "      <th>8</th>\n",
              "      <td>file</td>\n",
              "    </tr>\n",
              "    <tr>\n",
              "      <th>9</th>\n",
              "      <td>panel</td>\n",
              "    </tr>\n",
              "  </tbody>\n",
              "</table>\n",
              "</div>"
            ],
            "text/plain": [
              "         keywords\n",
              "0           total\n",
              "1            form\n",
              "2  administrative\n",
              "3         subject\n",
              "4        provided\n",
              "5  responsiveness\n",
              "6          budget\n",
              "7          agenda\n",
              "8            file\n",
              "9           panel"
            ]
          },
          "metadata": {
            "tags": []
          },
          "execution_count": 339
        }
      ]
    },
    {
      "cell_type": "code",
      "metadata": {
        "id": "S4LGtm2V2o1b"
      },
      "source": [
        "def weightage(word,text,number_of_documents=1):\n",
        "    word_list = re.findall(word,text)\n",
        "    number_of_times_word_appeared =len(word_list)\n",
        "    tf = number_of_times_word_appeared/float(len(text))\n",
        "    idf = np.log((number_of_documents)/float(number_of_times_word_appeared))\n",
        "    tf_idf = tf*idf\n",
        "    return number_of_times_word_appeared,tf,idf ,tf_idf"
      ],
      "execution_count": null,
      "outputs": []
    },
    {
      "cell_type": "code",
      "metadata": {
        "id": "bt2u9ggP2t1Z"
      },
      "source": [
        "df['number_of_times_word_appeared'] = df['keywords'].apply(lambda x: weightage(x,text_without_stopwords)[0])\n",
        "df['tf'] = df['keywords'].apply(lambda x: weightage(x,text_without_stopwords)[1])\n",
        "df['idf'] = df['keywords'].apply(lambda x: weightage(x,text_without_stopwords)[2])\n",
        "df['tf_idf'] = df['keywords'].apply(lambda x: weightage(x,text_without_stopwords)[3])"
      ],
      "execution_count": null,
      "outputs": []
    },
    {
      "cell_type": "code",
      "metadata": {
        "id": "2vtHG_AI2wWV",
        "colab": {
          "base_uri": "https://localhost:8080/",
          "height": 1000
        },
        "outputId": "370c07a5-f977-4202-df33-b194e06cd1fb"
      },
      "source": [
        "df = df.sort_values('tf_idf',ascending=True)\n",
        "df.to_csv('Keywords.csv')\n",
        "df.head(50)"
      ],
      "execution_count": null,
      "outputs": [
        {
          "output_type": "execute_result",
          "data": {
            "text/html": [
              "<div>\n",
              "<style scoped>\n",
              "    .dataframe tbody tr th:only-of-type {\n",
              "        vertical-align: middle;\n",
              "    }\n",
              "\n",
              "    .dataframe tbody tr th {\n",
              "        vertical-align: top;\n",
              "    }\n",
              "\n",
              "    .dataframe thead th {\n",
              "        text-align: right;\n",
              "    }\n",
              "</style>\n",
              "<table border=\"1\" class=\"dataframe\">\n",
              "  <thead>\n",
              "    <tr style=\"text-align: right;\">\n",
              "      <th></th>\n",
              "      <th>keywords</th>\n",
              "      <th>number_of_times_word_appeared</th>\n",
              "      <th>tf</th>\n",
              "      <th>idf</th>\n",
              "      <th>tf_idf</th>\n",
              "    </tr>\n",
              "  </thead>\n",
              "  <tbody>\n",
              "    <tr>\n",
              "      <th>82</th>\n",
              "      <td>san</td>\n",
              "      <td>7</td>\n",
              "      <td>0.006931</td>\n",
              "      <td>-1.945910</td>\n",
              "      <td>-0.013487</td>\n",
              "    </tr>\n",
              "    <tr>\n",
              "      <th>80</th>\n",
              "      <td>agreement</td>\n",
              "      <td>4</td>\n",
              "      <td>0.003960</td>\n",
              "      <td>-1.386294</td>\n",
              "      <td>-0.005490</td>\n",
              "    </tr>\n",
              "    <tr>\n",
              "      <th>48</th>\n",
              "      <td>ca</td>\n",
              "      <td>4</td>\n",
              "      <td>0.003960</td>\n",
              "      <td>-1.386294</td>\n",
              "      <td>-0.005490</td>\n",
              "    </tr>\n",
              "    <tr>\n",
              "      <th>42</th>\n",
              "      <td>evaluation</td>\n",
              "      <td>4</td>\n",
              "      <td>0.003960</td>\n",
              "      <td>-1.386294</td>\n",
              "      <td>-0.005490</td>\n",
              "    </tr>\n",
              "    <tr>\n",
              "      <th>9</th>\n",
              "      <td>panel</td>\n",
              "      <td>4</td>\n",
              "      <td>0.003960</td>\n",
              "      <td>-1.386294</td>\n",
              "      <td>-0.005490</td>\n",
              "    </tr>\n",
              "    <tr>\n",
              "      <th>69</th>\n",
              "      <td>direct</td>\n",
              "      <td>4</td>\n",
              "      <td>0.003960</td>\n",
              "      <td>-1.386294</td>\n",
              "      <td>-0.005490</td>\n",
              "    </tr>\n",
              "    <tr>\n",
              "      <th>57</th>\n",
              "      <td>top</td>\n",
              "      <td>3</td>\n",
              "      <td>0.002970</td>\n",
              "      <td>-1.098612</td>\n",
              "      <td>-0.003263</td>\n",
              "    </tr>\n",
              "    <tr>\n",
              "      <th>21</th>\n",
              "      <td>finance</td>\n",
              "      <td>3</td>\n",
              "      <td>0.002970</td>\n",
              "      <td>-1.098612</td>\n",
              "      <td>-0.003263</td>\n",
              "    </tr>\n",
              "    <tr>\n",
              "      <th>66</th>\n",
              "      <td>based</td>\n",
              "      <td>3</td>\n",
              "      <td>0.002970</td>\n",
              "      <td>-1.098612</td>\n",
              "      <td>-0.003263</td>\n",
              "    </tr>\n",
              "    <tr>\n",
              "      <th>32</th>\n",
              "      <td>pun</td>\n",
              "      <td>3</td>\n",
              "      <td>0.002970</td>\n",
              "      <td>-1.098612</td>\n",
              "      <td>-0.003263</td>\n",
              "    </tr>\n",
              "    <tr>\n",
              "      <th>74</th>\n",
              "      <td>department</td>\n",
              "      <td>2</td>\n",
              "      <td>0.001980</td>\n",
              "      <td>-0.693147</td>\n",
              "      <td>-0.001373</td>\n",
              "    </tr>\n",
              "    <tr>\n",
              "      <th>28</th>\n",
              "      <td>year</td>\n",
              "      <td>2</td>\n",
              "      <td>0.001980</td>\n",
              "      <td>-0.693147</td>\n",
              "      <td>-0.001373</td>\n",
              "    </tr>\n",
              "    <tr>\n",
              "      <th>26</th>\n",
              "      <td>provide</td>\n",
              "      <td>2</td>\n",
              "      <td>0.001980</td>\n",
              "      <td>-0.693147</td>\n",
              "      <td>-0.001373</td>\n",
              "    </tr>\n",
              "    <tr>\n",
              "      <th>40</th>\n",
              "      <td>section</td>\n",
              "      <td>2</td>\n",
              "      <td>0.001980</td>\n",
              "      <td>-0.693147</td>\n",
              "      <td>-0.001373</td>\n",
              "    </tr>\n",
              "    <tr>\n",
              "      <th>90</th>\n",
              "      <td>reference</td>\n",
              "      <td>2</td>\n",
              "      <td>0.001980</td>\n",
              "      <td>-0.693147</td>\n",
              "      <td>-0.001373</td>\n",
              "    </tr>\n",
              "    <tr>\n",
              "      <th>34</th>\n",
              "      <td>two</td>\n",
              "      <td>2</td>\n",
              "      <td>0.001980</td>\n",
              "      <td>-0.693147</td>\n",
              "      <td>-0.001373</td>\n",
              "    </tr>\n",
              "    <tr>\n",
              "      <th>33</th>\n",
              "      <td>manager</td>\n",
              "      <td>2</td>\n",
              "      <td>0.001980</td>\n",
              "      <td>-0.693147</td>\n",
              "      <td>-0.001373</td>\n",
              "    </tr>\n",
              "    <tr>\n",
              "      <th>53</th>\n",
              "      <td>group</td>\n",
              "      <td>2</td>\n",
              "      <td>0.001980</td>\n",
              "      <td>-0.693147</td>\n",
              "      <td>-0.001373</td>\n",
              "    </tr>\n",
              "    <tr>\n",
              "      <th>6</th>\n",
              "      <td>budget</td>\n",
              "      <td>2</td>\n",
              "      <td>0.001980</td>\n",
              "      <td>-0.693147</td>\n",
              "      <td>-0.001373</td>\n",
              "    </tr>\n",
              "    <tr>\n",
              "      <th>81</th>\n",
              "      <td>public</td>\n",
              "      <td>2</td>\n",
              "      <td>0.001980</td>\n",
              "      <td>-0.693147</td>\n",
              "      <td>-0.001373</td>\n",
              "    </tr>\n",
              "    <tr>\n",
              "      <th>7</th>\n",
              "      <td>agenda</td>\n",
              "      <td>2</td>\n",
              "      <td>0.001980</td>\n",
              "      <td>-0.693147</td>\n",
              "      <td>-0.001373</td>\n",
              "    </tr>\n",
              "    <tr>\n",
              "      <th>14</th>\n",
              "      <td>follow</td>\n",
              "      <td>2</td>\n",
              "      <td>0.001980</td>\n",
              "      <td>-0.693147</td>\n",
              "      <td>-0.001373</td>\n",
              "    </tr>\n",
              "    <tr>\n",
              "      <th>86</th>\n",
              "      <td>three</td>\n",
              "      <td>2</td>\n",
              "      <td>0.001980</td>\n",
              "      <td>-0.693147</td>\n",
              "      <td>-0.001373</td>\n",
              "    </tr>\n",
              "    <tr>\n",
              "      <th>88</th>\n",
              "      <td>five</td>\n",
              "      <td>2</td>\n",
              "      <td>0.001980</td>\n",
              "      <td>-0.693147</td>\n",
              "      <td>-0.001373</td>\n",
              "    </tr>\n",
              "    <tr>\n",
              "      <th>10</th>\n",
              "      <td>date</td>\n",
              "      <td>2</td>\n",
              "      <td>0.001980</td>\n",
              "      <td>-0.693147</td>\n",
              "      <td>-0.001373</td>\n",
              "    </tr>\n",
              "    <tr>\n",
              "      <th>3</th>\n",
              "      <td>subject</td>\n",
              "      <td>2</td>\n",
              "      <td>0.001980</td>\n",
              "      <td>-0.693147</td>\n",
              "      <td>-0.001373</td>\n",
              "    </tr>\n",
              "    <tr>\n",
              "      <th>12</th>\n",
              "      <td>independent</td>\n",
              "      <td>2</td>\n",
              "      <td>0.001980</td>\n",
              "      <td>-0.693147</td>\n",
              "      <td>-0.001373</td>\n",
              "    </tr>\n",
              "    <tr>\n",
              "      <th>63</th>\n",
              "      <td>include</td>\n",
              "      <td>1</td>\n",
              "      <td>0.000990</td>\n",
              "      <td>0.000000</td>\n",
              "      <td>0.000000</td>\n",
              "    </tr>\n",
              "    <tr>\n",
              "      <th>87</th>\n",
              "      <td>treasury</td>\n",
              "      <td>1</td>\n",
              "      <td>0.000990</td>\n",
              "      <td>0.000000</td>\n",
              "      <td>0.000000</td>\n",
              "    </tr>\n",
              "    <tr>\n",
              "      <th>79</th>\n",
              "      <td>cost</td>\n",
              "      <td>1</td>\n",
              "      <td>0.000990</td>\n",
              "      <td>0.000000</td>\n",
              "      <td>0.000000</td>\n",
              "    </tr>\n",
              "    <tr>\n",
              "      <th>64</th>\n",
              "      <td>thus</td>\n",
              "      <td>1</td>\n",
              "      <td>0.000990</td>\n",
              "      <td>0.000000</td>\n",
              "      <td>0.000000</td>\n",
              "    </tr>\n",
              "    <tr>\n",
              "      <th>60</th>\n",
              "      <td>director</td>\n",
              "      <td>1</td>\n",
              "      <td>0.000990</td>\n",
              "      <td>0.000000</td>\n",
              "      <td>0.000000</td>\n",
              "    </tr>\n",
              "    <tr>\n",
              "      <th>59</th>\n",
              "      <td>initial</td>\n",
              "      <td>1</td>\n",
              "      <td>0.000990</td>\n",
              "      <td>0.000000</td>\n",
              "      <td>0.000000</td>\n",
              "    </tr>\n",
              "    <tr>\n",
              "      <th>58</th>\n",
              "      <td>government</td>\n",
              "      <td>1</td>\n",
              "      <td>0.000990</td>\n",
              "      <td>0.000000</td>\n",
              "      <td>0.000000</td>\n",
              "    </tr>\n",
              "    <tr>\n",
              "      <th>89</th>\n",
              "      <td>acting</td>\n",
              "      <td>1</td>\n",
              "      <td>0.000990</td>\n",
              "      <td>0.000000</td>\n",
              "      <td>0.000000</td>\n",
              "    </tr>\n",
              "    <tr>\n",
              "      <th>56</th>\n",
              "      <td>review</td>\n",
              "      <td>1</td>\n",
              "      <td>0.000990</td>\n",
              "      <td>0.000000</td>\n",
              "      <td>0.000000</td>\n",
              "    </tr>\n",
              "    <tr>\n",
              "      <th>62</th>\n",
              "      <td>diligence</td>\n",
              "      <td>1</td>\n",
              "      <td>0.000990</td>\n",
              "      <td>0.000000</td>\n",
              "      <td>0.000000</td>\n",
              "    </tr>\n",
              "    <tr>\n",
              "      <th>61</th>\n",
              "      <td>due</td>\n",
              "      <td>1</td>\n",
              "      <td>0.000990</td>\n",
              "      <td>0.000000</td>\n",
              "      <td>0.000000</td>\n",
              "    </tr>\n",
              "    <tr>\n",
              "      <th>68</th>\n",
              "      <td>expanded</td>\n",
              "      <td>1</td>\n",
              "      <td>0.000990</td>\n",
              "      <td>0.000000</td>\n",
              "      <td>0.000000</td>\n",
              "    </tr>\n",
              "    <tr>\n",
              "      <th>67</th>\n",
              "      <td>received</td>\n",
              "      <td>1</td>\n",
              "      <td>0.000990</td>\n",
              "      <td>0.000000</td>\n",
              "      <td>0.000000</td>\n",
              "    </tr>\n",
              "    <tr>\n",
              "      <th>85</th>\n",
              "      <td>invite</td>\n",
              "      <td>1</td>\n",
              "      <td>0.000990</td>\n",
              "      <td>0.000000</td>\n",
              "      <td>0.000000</td>\n",
              "    </tr>\n",
              "    <tr>\n",
              "      <th>84</th>\n",
              "      <td>internal</td>\n",
              "      <td>1</td>\n",
              "      <td>0.000990</td>\n",
              "      <td>0.000000</td>\n",
              "      <td>0.000000</td>\n",
              "    </tr>\n",
              "    <tr>\n",
              "      <th>70</th>\n",
              "      <td>identify</td>\n",
              "      <td>1</td>\n",
              "      <td>0.000990</td>\n",
              "      <td>0.000000</td>\n",
              "      <td>0.000000</td>\n",
              "    </tr>\n",
              "    <tr>\n",
              "      <th>71</th>\n",
              "      <td>notice</td>\n",
              "      <td>1</td>\n",
              "      <td>0.000990</td>\n",
              "      <td>0.000000</td>\n",
              "      <td>0.000000</td>\n",
              "    </tr>\n",
              "    <tr>\n",
              "      <th>72</th>\n",
              "      <td>execute</td>\n",
              "      <td>1</td>\n",
              "      <td>0.000990</td>\n",
              "      <td>0.000000</td>\n",
              "      <td>0.000000</td>\n",
              "    </tr>\n",
              "    <tr>\n",
              "      <th>55</th>\n",
              "      <td>rich</td>\n",
              "      <td>1</td>\n",
              "      <td>0.000990</td>\n",
              "      <td>0.000000</td>\n",
              "      <td>0.000000</td>\n",
              "    </tr>\n",
              "    <tr>\n",
              "      <th>73</th>\n",
              "      <td>interview</td>\n",
              "      <td>1</td>\n",
              "      <td>0.000990</td>\n",
              "      <td>0.000000</td>\n",
              "      <td>0.000000</td>\n",
              "    </tr>\n",
              "    <tr>\n",
              "      <th>83</th>\n",
              "      <td>prepared</td>\n",
              "      <td>1</td>\n",
              "      <td>0.000990</td>\n",
              "      <td>0.000000</td>\n",
              "      <td>0.000000</td>\n",
              "    </tr>\n",
              "    <tr>\n",
              "      <th>75</th>\n",
              "      <td>scope</td>\n",
              "      <td>1</td>\n",
              "      <td>0.000990</td>\n",
              "      <td>0.000000</td>\n",
              "      <td>0.000000</td>\n",
              "    </tr>\n",
              "    <tr>\n",
              "      <th>76</th>\n",
              "      <td>committee</td>\n",
              "      <td>1</td>\n",
              "      <td>0.000990</td>\n",
              "      <td>0.000000</td>\n",
              "      <td>0.000000</td>\n",
              "    </tr>\n",
              "  </tbody>\n",
              "</table>\n",
              "</div>"
            ],
            "text/plain": [
              "       keywords  number_of_times_word_appeared        tf       idf    tf_idf\n",
              "82          san                              7  0.006931 -1.945910 -0.013487\n",
              "80    agreement                              4  0.003960 -1.386294 -0.005490\n",
              "48           ca                              4  0.003960 -1.386294 -0.005490\n",
              "42   evaluation                              4  0.003960 -1.386294 -0.005490\n",
              "9         panel                              4  0.003960 -1.386294 -0.005490\n",
              "69       direct                              4  0.003960 -1.386294 -0.005490\n",
              "57          top                              3  0.002970 -1.098612 -0.003263\n",
              "21      finance                              3  0.002970 -1.098612 -0.003263\n",
              "66        based                              3  0.002970 -1.098612 -0.003263\n",
              "32          pun                              3  0.002970 -1.098612 -0.003263\n",
              "74   department                              2  0.001980 -0.693147 -0.001373\n",
              "28         year                              2  0.001980 -0.693147 -0.001373\n",
              "26      provide                              2  0.001980 -0.693147 -0.001373\n",
              "40      section                              2  0.001980 -0.693147 -0.001373\n",
              "90    reference                              2  0.001980 -0.693147 -0.001373\n",
              "34          two                              2  0.001980 -0.693147 -0.001373\n",
              "33      manager                              2  0.001980 -0.693147 -0.001373\n",
              "53        group                              2  0.001980 -0.693147 -0.001373\n",
              "6        budget                              2  0.001980 -0.693147 -0.001373\n",
              "81       public                              2  0.001980 -0.693147 -0.001373\n",
              "7        agenda                              2  0.001980 -0.693147 -0.001373\n",
              "14       follow                              2  0.001980 -0.693147 -0.001373\n",
              "86        three                              2  0.001980 -0.693147 -0.001373\n",
              "88         five                              2  0.001980 -0.693147 -0.001373\n",
              "10         date                              2  0.001980 -0.693147 -0.001373\n",
              "3       subject                              2  0.001980 -0.693147 -0.001373\n",
              "12  independent                              2  0.001980 -0.693147 -0.001373\n",
              "63      include                              1  0.000990  0.000000  0.000000\n",
              "87     treasury                              1  0.000990  0.000000  0.000000\n",
              "79         cost                              1  0.000990  0.000000  0.000000\n",
              "64         thus                              1  0.000990  0.000000  0.000000\n",
              "60     director                              1  0.000990  0.000000  0.000000\n",
              "59      initial                              1  0.000990  0.000000  0.000000\n",
              "58   government                              1  0.000990  0.000000  0.000000\n",
              "89       acting                              1  0.000990  0.000000  0.000000\n",
              "56       review                              1  0.000990  0.000000  0.000000\n",
              "62    diligence                              1  0.000990  0.000000  0.000000\n",
              "61          due                              1  0.000990  0.000000  0.000000\n",
              "68     expanded                              1  0.000990  0.000000  0.000000\n",
              "67     received                              1  0.000990  0.000000  0.000000\n",
              "85       invite                              1  0.000990  0.000000  0.000000\n",
              "84     internal                              1  0.000990  0.000000  0.000000\n",
              "70     identify                              1  0.000990  0.000000  0.000000\n",
              "71       notice                              1  0.000990  0.000000  0.000000\n",
              "72      execute                              1  0.000990  0.000000  0.000000\n",
              "55         rich                              1  0.000990  0.000000  0.000000\n",
              "73    interview                              1  0.000990  0.000000  0.000000\n",
              "83     prepared                              1  0.000990  0.000000  0.000000\n",
              "75        scope                              1  0.000990  0.000000  0.000000\n",
              "76    committee                              1  0.000990  0.000000  0.000000"
            ]
          },
          "metadata": {
            "tags": []
          },
          "execution_count": 342
        }
      ]
    },
    {
      "cell_type": "code",
      "metadata": {
        "id": "vXjWoNt82yW9"
      },
      "source": [
        "from gensim.summarization import keywords\n",
        "import warnings\n",
        "warnings.filterwarnings(\"ignore\")"
      ],
      "execution_count": null,
      "outputs": []
    },
    {
      "cell_type": "code",
      "metadata": {
        "id": "tEYIbrm321hv"
      },
      "source": [
        "values = keywords(text=text_without_stopwords,split='\\n',scores=True,lemmatize=True)\n"
      ],
      "execution_count": null,
      "outputs": []
    },
    {
      "cell_type": "code",
      "metadata": {
        "id": "YcMNC0iJ26Sg",
        "colab": {
          "base_uri": "https://localhost:8080/",
          "height": 452
        },
        "outputId": "d03927b1-8483-4b1f-e2a1-6a51092f71c5"
      },
      "source": [
        "data = pd.DataFrame(values,columns=['keyword','score'])\n",
        "data = data.sort_values('score',ascending=False)\n",
        "data.head(20)"
      ],
      "execution_count": null,
      "outputs": [
        {
          "output_type": "execute_result",
          "data": {
            "text/html": [
              "<div>\n",
              "<style scoped>\n",
              "    .dataframe tbody tr th:only-of-type {\n",
              "        vertical-align: middle;\n",
              "    }\n",
              "\n",
              "    .dataframe tbody tr th {\n",
              "        vertical-align: top;\n",
              "    }\n",
              "\n",
              "    .dataframe thead th {\n",
              "        text-align: right;\n",
              "    }\n",
              "</style>\n",
              "<table border=\"1\" class=\"dataframe\">\n",
              "  <thead>\n",
              "    <tr style=\"text-align: right;\">\n",
              "      <th></th>\n",
              "      <th>keyword</th>\n",
              "      <th>score</th>\n",
              "    </tr>\n",
              "  </thead>\n",
              "  <tbody>\n",
              "    <tr>\n",
              "      <th>0</th>\n",
              "      <td>san</td>\n",
              "      <td>0.337561</td>\n",
              "    </tr>\n",
              "    <tr>\n",
              "      <th>1</th>\n",
              "      <td>based</td>\n",
              "      <td>0.199538</td>\n",
              "    </tr>\n",
              "    <tr>\n",
              "      <th>2</th>\n",
              "      <td>subject independent agreement</td>\n",
              "      <td>0.186771</td>\n",
              "    </tr>\n",
              "    <tr>\n",
              "      <th>3</th>\n",
              "      <td>evaluation panel</td>\n",
              "      <td>0.172764</td>\n",
              "    </tr>\n",
              "    <tr>\n",
              "      <th>4</th>\n",
              "      <td>finance</td>\n",
              "      <td>0.172555</td>\n",
              "    </tr>\n",
              "    <tr>\n",
              "      <th>5</th>\n",
              "      <td>budget</td>\n",
              "      <td>0.158248</td>\n",
              "    </tr>\n",
              "    <tr>\n",
              "      <th>6</th>\n",
              "      <td>manager</td>\n",
              "      <td>0.155399</td>\n",
              "    </tr>\n",
              "    <tr>\n",
              "      <th>7</th>\n",
              "      <td>provided</td>\n",
              "      <td>0.143995</td>\n",
              "    </tr>\n",
              "    <tr>\n",
              "      <th>8</th>\n",
              "      <td>section</td>\n",
              "      <td>0.142803</td>\n",
              "    </tr>\n",
              "    <tr>\n",
              "      <th>9</th>\n",
              "      <td>public</td>\n",
              "      <td>0.139759</td>\n",
              "    </tr>\n",
              "    <tr>\n",
              "      <th>10</th>\n",
              "      <td>pun</td>\n",
              "      <td>0.138556</td>\n",
              "    </tr>\n",
              "    <tr>\n",
              "      <th>11</th>\n",
              "      <td>authority</td>\n",
              "      <td>0.137671</td>\n",
              "    </tr>\n",
              "    <tr>\n",
              "      <th>12</th>\n",
              "      <td>reference</td>\n",
              "      <td>0.131484</td>\n",
              "    </tr>\n",
              "  </tbody>\n",
              "</table>\n",
              "</div>"
            ],
            "text/plain": [
              "                          keyword     score\n",
              "0                             san  0.337561\n",
              "1                           based  0.199538\n",
              "2   subject independent agreement  0.186771\n",
              "3                evaluation panel  0.172764\n",
              "4                         finance  0.172555\n",
              "5                          budget  0.158248\n",
              "6                         manager  0.155399\n",
              "7                        provided  0.143995\n",
              "8                         section  0.142803\n",
              "9                          public  0.139759\n",
              "10                            pun  0.138556\n",
              "11                      authority  0.137671\n",
              "12                      reference  0.131484"
            ]
          },
          "metadata": {
            "tags": []
          },
          "execution_count": 345
        }
      ]
    },
    {
      "cell_type": "code",
      "metadata": {
        "id": "zSqook7I3AKw",
        "colab": {
          "base_uri": "https://localhost:8080/"
        },
        "outputId": "845a7e67-0276-4e49-fd51-a06fa7c0c6f9"
      },
      "source": [
        "!pip install rake_nltk"
      ],
      "execution_count": null,
      "outputs": [
        {
          "output_type": "stream",
          "text": [
            "Collecting rake_nltk\n",
            "  Downloading https://files.pythonhosted.org/packages/8e/c4/b4ff57e541ac5624ad4b20b89c2bafd4e98f29fd83139f3a81858bdb3815/rake_nltk-1.0.4.tar.gz\n",
            "Requirement already satisfied: nltk in /usr/local/lib/python3.7/dist-packages (from rake_nltk) (3.2.5)\n",
            "Requirement already satisfied: six in /usr/local/lib/python3.7/dist-packages (from nltk->rake_nltk) (1.12.0)\n",
            "Building wheels for collected packages: rake-nltk\n",
            "  Building wheel for rake-nltk (setup.py) ... \u001b[?25l\u001b[?25hdone\n",
            "  Created wheel for rake-nltk: filename=rake_nltk-1.0.4-py2.py3-none-any.whl size=7829 sha256=3042a9807ce3a01e9d3624a0dd3a737b71ac49d83c3d740a94428f28943c4587\n",
            "  Stored in directory: /root/.cache/pip/wheels/ef/92/fc/271b3709e71a96ffe934b27818946b795ac6b9b8ff8682483f\n",
            "Successfully built rake-nltk\n",
            "Installing collected packages: rake-nltk\n",
            "Successfully installed rake-nltk-1.0.4\n"
          ],
          "name": "stdout"
        }
      ]
    },
    {
      "cell_type": "code",
      "metadata": {
        "id": "3MIPRfgg298M"
      },
      "source": [
        "from rake_nltk import Rake"
      ],
      "execution_count": null,
      "outputs": []
    },
    {
      "cell_type": "code",
      "metadata": {
        "id": "wWcOPcrM3FJQ"
      },
      "source": [
        "r = Rake()\n",
        "r.extract_keywords_from_text(original_text)"
      ],
      "execution_count": null,
      "outputs": []
    },
    {
      "cell_type": "code",
      "metadata": {
        "id": "CLgtlRZ23Foy"
      },
      "source": [
        "phrases = r.get_ranked_phrases_with_scores()"
      ],
      "execution_count": null,
      "outputs": []
    },
    {
      "cell_type": "code",
      "metadata": {
        "id": "tLgLE0583IrX",
        "colab": {
          "base_uri": "https://localhost:8080/",
          "height": 359
        },
        "outputId": "f4e78dbe-6f23-4c9c-ff92-8b6f1ac66bd3"
      },
      "source": [
        "table = pd.DataFrame(phrases,columns=['score','Phrase'])\n",
        "table = table.sort_values('score',ascending=False)\n",
        "table.head(10)"
      ],
      "execution_count": null,
      "outputs": [
        {
          "output_type": "execute_result",
          "data": {
            "text/html": [
              "<div>\n",
              "<style scoped>\n",
              "    .dataframe tbody tr th:only-of-type {\n",
              "        vertical-align: middle;\n",
              "    }\n",
              "\n",
              "    .dataframe tbody tr th {\n",
              "        vertical-align: top;\n",
              "    }\n",
              "\n",
              "    .dataframe thead th {\n",
              "        text-align: right;\n",
              "    }\n",
              "</style>\n",
              "<table border=\"1\" class=\"dataframe\">\n",
              "  <thead>\n",
              "    <tr style=\"text-align: right;\">\n",
              "      <th></th>\n",
              "      <th>score</th>\n",
              "      <th>Phrase</th>\n",
              "    </tr>\n",
              "  </thead>\n",
              "  <tbody>\n",
              "    <tr>\n",
              "      <th>0</th>\n",
              "      <td>57.166667</td>\n",
              "      <td>san mateo 2 0 5 7 notice provided</td>\n",
              "    </tr>\n",
              "    <tr>\n",
              "      <th>1</th>\n",
              "      <td>54.404762</td>\n",
              "      <td>san mateo agenda report city hall 330 w</td>\n",
              "    </tr>\n",
              "    <tr>\n",
              "      <th>2</th>\n",
              "      <td>47.333333</td>\n",
              "      <td>20th avenue san mateo ca 94403 www</td>\n",
              "    </tr>\n",
              "    <tr>\n",
              "      <th>3</th>\n",
              "      <td>45.738095</td>\n",
              "      <td>san mateo 2 0 5 7 city</td>\n",
              "    </tr>\n",
              "    <tr>\n",
              "      <th>4</th>\n",
              "      <td>26.833333</td>\n",
              "      <td>san mateo consolidated fire department</td>\n",
              "    </tr>\n",
              "    <tr>\n",
              "      <th>5</th>\n",
              "      <td>25.000000</td>\n",
              "      <td>eight professional certified public accountant</td>\n",
              "    </tr>\n",
              "    <tr>\n",
              "      <th>6</th>\n",
              "      <td>24.571429</td>\n",
              "      <td>foster city public financing authority</td>\n",
              "    </tr>\n",
              "    <tr>\n",
              "      <th>7</th>\n",
              "      <td>20.166667</td>\n",
              "      <td>agreement staff contact rich lee</td>\n",
              "    </tr>\n",
              "    <tr>\n",
              "      <th>8</th>\n",
              "      <td>19.250000</td>\n",
              "      <td>independent audit services agreement recommend...</td>\n",
              "    </tr>\n",
              "    <tr>\n",
              "      <th>9</th>\n",
              "      <td>18.333333</td>\n",
              "      <td>b )( 5 ).)</td>\n",
              "    </tr>\n",
              "  </tbody>\n",
              "</table>\n",
              "</div>"
            ],
            "text/plain": [
              "       score                                             Phrase\n",
              "0  57.166667                  san mateo 2 0 5 7 notice provided\n",
              "1  54.404762            san mateo agenda report city hall 330 w\n",
              "2  47.333333                 20th avenue san mateo ca 94403 www\n",
              "3  45.738095                             san mateo 2 0 5 7 city\n",
              "4  26.833333             san mateo consolidated fire department\n",
              "5  25.000000     eight professional certified public accountant\n",
              "6  24.571429             foster city public financing authority\n",
              "7  20.166667                   agreement staff contact rich lee\n",
              "8  19.250000  independent audit services agreement recommend...\n",
              "9  18.333333                                         b )( 5 ).)"
            ]
          },
          "metadata": {
            "tags": []
          },
          "execution_count": 355
        }
      ]
    },
    {
      "cell_type": "code",
      "metadata": {
        "colab": {
          "base_uri": "https://localhost:8080/",
          "height": 69
        },
        "id": "W1h5ZUjUkub1",
        "outputId": "f80ac994-3b08-4c32-a5d2-19e809516610"
      },
      "source": [
        "from gensim.summarization.summarizer import summarize\n",
        "from gensim.summarization.textcleaner import split_sentences\n",
        "def f(seq): # Order preserving unique sentences - sometimes duplicate sentences appear in summaries\n",
        "    seen = set()\n",
        "    return [x for x in seq if x not in seen and not seen.add(x)]\n",
        " \n",
        " \n",
        "def summary(x, perc): #x input document, perc: percentage of the original document to keep\n",
        "    if len(split_sentences(x)) > 10:\n",
        "        test_summary = summarize(x, ratio = perc, split=True)\n",
        "        test_summary = '\\n'.join(map(str, f(test_summary)))\n",
        "    else:\n",
        "        test_summary = x\n",
        "    return test_summary\n",
        " \n",
        "# Get the Summary\n",
        "mysummary = summary(original_text, 0.1)\n",
        "mysummary"
      ],
      "execution_count": null,
      "outputs": [
        {
          "output_type": "execute_result",
          "data": {
            "application/vnd.google.colaboratory.intrinsic+json": {
              "type": "string"
            },
            "text/plain": [
              "'20th   avenue san   mateo   ca   94403 www.cityofsanmateo.org agenda number:  1 section name: {{section.name}} file id: {{item.tracking_number}} to :city council audit committee from :rich lee prepared by :finance department meeting date :march 11, 2021   subject : independent audit services  agreement recommendation: recommend that the city council authorize the finance director to execute an agreement with the pun group llp for  independent audit services in substantially the form presented.'"
            ]
          },
          "metadata": {
            "tags": []
          },
          "execution_count": 373
        }
      ]
    }
  ]
}