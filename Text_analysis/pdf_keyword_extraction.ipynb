{
  "nbformat": 4,
  "nbformat_minor": 0,
  "metadata": {
    "colab": {
      "name": "Copy of pdf_keyword_extraction.ipynb",
      "provenance": [],
      "collapsed_sections": []
    },
    "kernelspec": {
      "name": "python3",
      "display_name": "Python 3"
    },
    "language_info": {
      "name": "python"
    }
  },
  "cells": [
    {
      "cell_type": "code",
      "metadata": {
        "colab": {
          "base_uri": "https://localhost:8080/"
        },
        "id": "WOIVY9B0zEJc",
        "outputId": "e55944e8-424d-4b12-e0ac-c68fc1cef827"
      },
      "source": [
        "!pip install PyPDF2"
      ],
      "execution_count": null,
      "outputs": [
        {
          "output_type": "stream",
          "text": [
            "Collecting PyPDF2\n",
            "\u001b[?25l  Downloading https://files.pythonhosted.org/packages/b4/01/68fcc0d43daf4c6bdbc6b33cc3f77bda531c86b174cac56ef0ffdb96faab/PyPDF2-1.26.0.tar.gz (77kB)\n",
            "\r\u001b[K     |████▎                           | 10kB 13.8MB/s eta 0:00:01\r\u001b[K     |████████▌                       | 20kB 19.9MB/s eta 0:00:01\r\u001b[K     |████████████▊                   | 30kB 12.7MB/s eta 0:00:01\r\u001b[K     |█████████████████               | 40kB 9.5MB/s eta 0:00:01\r\u001b[K     |█████████████████████▏          | 51kB 5.2MB/s eta 0:00:01\r\u001b[K     |█████████████████████████▍      | 61kB 5.3MB/s eta 0:00:01\r\u001b[K     |█████████████████████████████▋  | 71kB 6.0MB/s eta 0:00:01\r\u001b[K     |████████████████████████████████| 81kB 3.7MB/s \n",
            "\u001b[?25hBuilding wheels for collected packages: PyPDF2\n",
            "  Building wheel for PyPDF2 (setup.py) ... \u001b[?25l\u001b[?25hdone\n",
            "  Created wheel for PyPDF2: filename=PyPDF2-1.26.0-cp37-none-any.whl size=61102 sha256=e7eab603af8015ca8ae902f2fa2d9b917e2d558fc378dc6c15a70e9eb37b34d4\n",
            "  Stored in directory: /root/.cache/pip/wheels/53/84/19/35bc977c8bf5f0c23a8a011aa958acd4da4bbd7a229315c1b7\n",
            "Successfully built PyPDF2\n",
            "Installing collected packages: PyPDF2\n",
            "Successfully installed PyPDF2-1.26.0\n"
          ],
          "name": "stdout"
        }
      ]
    },
    {
      "cell_type": "code",
      "metadata": {
        "colab": {
          "base_uri": "https://localhost:8080/",
          "height": 1000
        },
        "id": "_GtDJdepzmoe",
        "outputId": "ae0ed611-606d-442c-aa33-7846c7c48d25"
      },
      "source": [
        "!pip install textract\n"
      ],
      "execution_count": null,
      "outputs": [
        {
          "output_type": "stream",
          "text": [
            "Collecting textract\n",
            "  Downloading https://files.pythonhosted.org/packages/32/31/ef9451e6e48a1a57e337c5f20d4ef58c1a13d91560d2574c738b1320bb8d/textract-1.6.3-py3-none-any.whl\n",
            "Collecting beautifulsoup4==4.8.0\n",
            "\u001b[?25l  Downloading https://files.pythonhosted.org/packages/1a/b7/34eec2fe5a49718944e215fde81288eec1fa04638aa3fb57c1c6cd0f98c3/beautifulsoup4-4.8.0-py3-none-any.whl (97kB)\n",
            "\u001b[K     |████████████████████████████████| 102kB 4.8MB/s \n",
            "\u001b[?25hCollecting python-pptx==0.6.18\n",
            "\u001b[?25l  Downloading https://files.pythonhosted.org/packages/bf/86/eb979f7b0333ec769041aae36df8b9f1bd8bea5bbad44620663890dce561/python-pptx-0.6.18.tar.gz (8.9MB)\n",
            "\u001b[K     |████████████████████████████████| 8.9MB 9.0MB/s \n",
            "\u001b[?25hCollecting xlrd==1.2.0\n",
            "\u001b[?25l  Downloading https://files.pythonhosted.org/packages/b0/16/63576a1a001752e34bf8ea62e367997530dc553b689356b9879339cf45a4/xlrd-1.2.0-py2.py3-none-any.whl (103kB)\n",
            "\u001b[K     |████████████████████████████████| 112kB 36.3MB/s \n",
            "\u001b[?25hCollecting docx2txt==0.8\n",
            "  Downloading https://files.pythonhosted.org/packages/7d/7d/60ee3f2b16d9bfdfa72e8599470a2c1a5b759cb113c6fe1006be28359327/docx2txt-0.8.tar.gz\n",
            "Collecting EbookLib==0.17.1\n",
            "\u001b[?25l  Downloading https://files.pythonhosted.org/packages/00/38/7d6ab2e569a9165249619d73b7bc6be0e713a899a3bc2513814b6598a84c/EbookLib-0.17.1.tar.gz (111kB)\n",
            "\u001b[K     |████████████████████████████████| 112kB 42.8MB/s \n",
            "\u001b[?25hCollecting argcomplete==1.10.0\n",
            "  Downloading https://files.pythonhosted.org/packages/4d/82/f44c9661e479207348a979b1f6f063625d11dc4ca6256af053719bbb0124/argcomplete-1.10.0-py2.py3-none-any.whl\n",
            "Requirement already satisfied: chardet==3.0.4 in /usr/local/lib/python3.7/dist-packages (from textract) (3.0.4)\n",
            "Collecting SpeechRecognition==3.8.1\n",
            "\u001b[?25l  Downloading https://files.pythonhosted.org/packages/26/e1/7f5678cd94ec1234269d23756dbdaa4c8cfaed973412f88ae8adf7893a50/SpeechRecognition-3.8.1-py2.py3-none-any.whl (32.8MB)\n",
            "\u001b[K     |████████████████████████████████| 32.8MB 113kB/s \n",
            "\u001b[?25hCollecting extract-msg==0.23.1\n",
            "\u001b[?25l  Downloading https://files.pythonhosted.org/packages/a1/90/84485a914ed90adb5e87df17e626be04162fbba146dfecf34643659a4633/extract_msg-0.23.1-py2.py3-none-any.whl (45kB)\n",
            "\u001b[K     |████████████████████████████████| 51kB 5.5MB/s \n",
            "\u001b[?25hCollecting six==1.12.0\n",
            "  Downloading https://files.pythonhosted.org/packages/73/fb/00a976f728d0d1fecfe898238ce23f502a721c0ac0ecfedb80e0d88c64e9/six-1.12.0-py2.py3-none-any.whl\n",
            "Collecting pdfminer.six==20181108\n",
            "\u001b[?25l  Downloading https://files.pythonhosted.org/packages/8a/fd/6e8746e6965d1a7ea8e97253e3d79e625da5547e8f376f88de5d024bacb9/pdfminer.six-20181108-py2.py3-none-any.whl (5.6MB)\n",
            "\u001b[K     |████████████████████████████████| 5.6MB 33.7MB/s \n",
            "\u001b[?25hCollecting soupsieve>=1.2\n",
            "  Downloading https://files.pythonhosted.org/packages/36/69/d82d04022f02733bf9a72bc3b96332d360c0c5307096d76f6bb7489f7e57/soupsieve-2.2.1-py3-none-any.whl\n",
            "Requirement already satisfied: lxml>=3.1.0 in /usr/local/lib/python3.7/dist-packages (from python-pptx==0.6.18->textract) (4.2.6)\n",
            "Requirement already satisfied: Pillow>=3.3.2 in /usr/local/lib/python3.7/dist-packages (from python-pptx==0.6.18->textract) (7.1.2)\n",
            "Collecting XlsxWriter>=0.5.7\n",
            "\u001b[?25l  Downloading https://files.pythonhosted.org/packages/2c/ce/74fd8d638a5b82ea0c6f08a5978f741c2655a38c3d6e82f73a0f084377e6/XlsxWriter-1.4.3-py2.py3-none-any.whl (149kB)\n",
            "\u001b[K     |████████████████████████████████| 153kB 42.9MB/s \n",
            "\u001b[?25hCollecting imapclient==2.1.0\n",
            "\u001b[?25l  Downloading https://files.pythonhosted.org/packages/dc/39/e1c2c2c6e2356ab6ea81fcfc0a74b044b311d6a91a45300811d9a6077ef7/IMAPClient-2.1.0-py2.py3-none-any.whl (73kB)\n",
            "\u001b[K     |████████████████████████████████| 81kB 8.6MB/s \n",
            "\u001b[?25hRequirement already satisfied: tzlocal==1.5.1 in /usr/local/lib/python3.7/dist-packages (from extract-msg==0.23.1->textract) (1.5.1)\n",
            "Collecting olefile==0.46\n",
            "\u001b[?25l  Downloading https://files.pythonhosted.org/packages/34/81/e1ac43c6b45b4c5f8d9352396a14144bba52c8fec72a80f425f6a4d653ad/olefile-0.46.zip (112kB)\n",
            "\u001b[K     |████████████████████████████████| 112kB 47.0MB/s \n",
            "\u001b[?25hCollecting pycryptodome\n",
            "\u001b[?25l  Downloading https://files.pythonhosted.org/packages/ad/16/9627ab0493894a11c68e46000dbcc82f578c8ff06bc2980dcd016aea9bd3/pycryptodome-3.10.1-cp35-abi3-manylinux2010_x86_64.whl (1.9MB)\n",
            "\u001b[K     |████████████████████████████████| 1.9MB 29.0MB/s \n",
            "\u001b[?25hRequirement already satisfied: sortedcontainers in /usr/local/lib/python3.7/dist-packages (from pdfminer.six==20181108->textract) (2.4.0)\n",
            "Requirement already satisfied: pytz in /usr/local/lib/python3.7/dist-packages (from tzlocal==1.5.1->extract-msg==0.23.1->textract) (2018.9)\n",
            "Building wheels for collected packages: python-pptx, docx2txt, EbookLib, olefile\n",
            "  Building wheel for python-pptx (setup.py) ... \u001b[?25l\u001b[?25hdone\n",
            "  Created wheel for python-pptx: filename=python_pptx-0.6.18-cp37-none-any.whl size=275504 sha256=f0d36368d7fcb2cc7ba5b792a276b0ec6208b5763510493b60b22c70548d48f8\n",
            "  Stored in directory: /root/.cache/pip/wheels/1f/1f/2c/29acca422b420a0b5210bd2cd7e9669804520d602d2462f20b\n",
            "  Building wheel for docx2txt (setup.py) ... \u001b[?25l\u001b[?25hdone\n",
            "  Created wheel for docx2txt: filename=docx2txt-0.8-cp37-none-any.whl size=3981 sha256=bc32a2b4ed99cb64e6a11681f3567283f8b19da86b3191a129a2bacc1599e8c4\n",
            "  Stored in directory: /root/.cache/pip/wheels/b2/1f/26/a051209bbb77fc6bcfae2bb7e01fa0ff941b82292ab084d596\n",
            "  Building wheel for EbookLib (setup.py) ... \u001b[?25l\u001b[?25hdone\n",
            "  Created wheel for EbookLib: filename=EbookLib-0.17.1-cp37-none-any.whl size=38187 sha256=1e14e73bacb9fddf208137d3a090022e8a17608ed76b69bf5d77417aeeb853d2\n",
            "  Stored in directory: /root/.cache/pip/wheels/84/11/01/951369cbbf8f96878786a1f4da68bd7ac19a5d945b38e03d54\n",
            "  Building wheel for olefile (setup.py) ... \u001b[?25l\u001b[?25hdone\n",
            "  Created wheel for olefile: filename=olefile-0.46-py2.py3-none-any.whl size=35431 sha256=8afe4b05afd74c4c174c8f54a77868460b75d9d22b872ea1e71a9781a009cede\n",
            "  Stored in directory: /root/.cache/pip/wheels/4b/f4/11/bc4166107c27f07fd7bba707ffcb439619197638a1ac986df3\n",
            "Successfully built python-pptx docx2txt EbookLib olefile\n",
            "\u001b[31mERROR: tensorflow 2.5.0 has requirement six~=1.15.0, but you'll have six 1.12.0 which is incompatible.\u001b[0m\n",
            "\u001b[31mERROR: google-colab 1.0.0 has requirement six~=1.15.0, but you'll have six 1.12.0 which is incompatible.\u001b[0m\n",
            "\u001b[31mERROR: google-api-python-client 1.12.8 has requirement six<2dev,>=1.13.0, but you'll have six 1.12.0 which is incompatible.\u001b[0m\n",
            "\u001b[31mERROR: google-api-core 1.26.3 has requirement six>=1.13.0, but you'll have six 1.12.0 which is incompatible.\u001b[0m\n",
            "\u001b[31mERROR: datascience 0.10.6 has requirement folium==0.2.1, but you'll have folium 0.8.3 which is incompatible.\u001b[0m\n",
            "\u001b[31mERROR: albumentations 0.1.12 has requirement imgaug<0.2.7,>=0.2.5, but you'll have imgaug 0.2.9 which is incompatible.\u001b[0m\n",
            "Installing collected packages: soupsieve, beautifulsoup4, XlsxWriter, python-pptx, xlrd, docx2txt, six, EbookLib, argcomplete, SpeechRecognition, imapclient, olefile, extract-msg, pycryptodome, pdfminer.six, textract\n",
            "  Found existing installation: beautifulsoup4 4.6.3\n",
            "    Uninstalling beautifulsoup4-4.6.3:\n",
            "      Successfully uninstalled beautifulsoup4-4.6.3\n",
            "  Found existing installation: xlrd 1.1.0\n",
            "    Uninstalling xlrd-1.1.0:\n",
            "      Successfully uninstalled xlrd-1.1.0\n",
            "  Found existing installation: six 1.15.0\n",
            "    Uninstalling six-1.15.0:\n",
            "      Successfully uninstalled six-1.15.0\n",
            "Successfully installed EbookLib-0.17.1 SpeechRecognition-3.8.1 XlsxWriter-1.4.3 argcomplete-1.10.0 beautifulsoup4-4.8.0 docx2txt-0.8 extract-msg-0.23.1 imapclient-2.1.0 olefile-0.46 pdfminer.six-20181108 pycryptodome-3.10.1 python-pptx-0.6.18 six-1.12.0 soupsieve-2.2.1 textract-1.6.3 xlrd-1.2.0\n"
          ],
          "name": "stdout"
        },
        {
          "output_type": "display_data",
          "data": {
            "application/vnd.colab-display-data+json": {
              "pip_warning": {
                "packages": [
                  "six"
                ]
              }
            }
          },
          "metadata": {
            "tags": []
          }
        }
      ]
    },
    {
      "cell_type": "code",
      "metadata": {
        "colab": {
          "base_uri": "https://localhost:8080/"
        },
        "id": "uWw1xX92zq0d",
        "outputId": "4c630bdc-6896-4227-aed4-a28337735498"
      },
      "source": [
        "!pip install regex"
      ],
      "execution_count": null,
      "outputs": [
        {
          "output_type": "stream",
          "text": [
            "Requirement already satisfied: regex in /usr/local/lib/python3.7/dist-packages (2019.12.20)\n"
          ],
          "name": "stdout"
        }
      ]
    },
    {
      "cell_type": "code",
      "metadata": {
        "id": "uMJG6skWzz0X",
        "colab": {
          "base_uri": "https://localhost:8080/"
        },
        "outputId": "2352e523-0eb1-4670-a8b8-5a1b7293f7c8"
      },
      "source": [
        "from google.colab import drive\n",
        "\n",
        "drive.mount('/content/gdrive')"
      ],
      "execution_count": null,
      "outputs": [
        {
          "output_type": "stream",
          "text": [
            "Mounted at /content/gdrive\n"
          ],
          "name": "stdout"
        }
      ]
    },
    {
      "cell_type": "code",
      "metadata": {
        "colab": {
          "base_uri": "https://localhost:8080/"
        },
        "id": "vwLmgwPG0hix",
        "outputId": "6fee1eba-b0d3-49c8-f7dc-4b9ecffb9801"
      },
      "source": [
        "!ls \"/content/gdrive/My Drive/Code for San Jose/AlisaViejo_Granicus_01-20-2021.pdf\""
      ],
      "execution_count": null,
      "outputs": [
        {
          "output_type": "stream",
          "text": [
            "'/content/gdrive/My Drive/Code for San Jose/AlisaViejo_Granicus_01-20-2021.pdf'\n"
          ],
          "name": "stdout"
        }
      ]
    },
    {
      "cell_type": "code",
      "metadata": {
        "id": "wxpVrf6g0xkx"
      },
      "source": [
        "import pandas as pd\n",
        "import numpy as np\n",
        "import PyPDF2\n",
        "import textract\n",
        "import re"
      ],
      "execution_count": null,
      "outputs": []
    },
    {
      "cell_type": "code",
      "metadata": {
        "id": "hNVgX4RR0uVu"
      },
      "source": [
        "filename=\"/content/gdrive/My Drive/Code for San Jose/AlisaViejo_Granicus_01-20-2021.pdf\""
      ],
      "execution_count": null,
      "outputs": []
    },
    {
      "cell_type": "code",
      "metadata": {
        "id": "j4zvHBVe007N"
      },
      "source": [
        "pdfFileObj = open(filename,'rb')               #open allows you to read the file\n",
        "pdfReader = PyPDF2.PdfFileReader(pdfFileObj)   #The pdfReader variable is a readable object that will be parsed\n",
        "num_pages = pdfReader.numPages                 #discerning the number of pages will allow us to parse through all the pages\n",
        "\n",
        "\n",
        "count = 0\n",
        "text = \"\"\n",
        "                                                            \n",
        "while count < num_pages:                       #The while loop will read each page\n",
        "    pageObj = pdfReader.getPage(count)\n",
        "    count +=1\n",
        "    text += pageObj.extractText()\n",
        "    \n",
        "#Below if statement exists to check if the above library returned #words. It's done because PyPDF2 cannot read scanned files.\n",
        "\n",
        "if text != \"\":\n",
        "    text = text\n",
        "    \n",
        "#If the above returns as False, we run the OCR library textract to #convert scanned/image based PDF files into text\n",
        "\n",
        "else:\n",
        "    text = textract.process('http://bit.ly/epo_keyword_extraction_document', method='tesseract', language='eng')\n",
        "\n",
        "    # Now we have a text variable which contains all the text derived from our PDF file."
      ],
      "execution_count": null,
      "outputs": []
    },
    {
      "cell_type": "code",
      "metadata": {
        "id": "w_NUJ3jc1EWQ"
      },
      "source": [
        "text = text.encode('ascii','ignore').lower() #Lowercasing each word"
      ],
      "execution_count": null,
      "outputs": []
    },
    {
      "cell_type": "code",
      "metadata": {
        "colab": {
          "base_uri": "https://localhost:8080/"
        },
        "id": "1FQRf0FS1SXc",
        "outputId": "211d7948-606a-4d81-c4b3-c85bf50098c5"
      },
      "source": [
        "text"
      ],
      "execution_count": null,
      "outputs": [
        {
          "output_type": "execute_result",
          "data": {
            "text/plain": [
              "b\" 1 agenda\\n aliso viejo\\n city council\\n  wednesday, january 20, 2021\\n 6:00 p.m. closed session\\n 7:00 pm regular meeting\\n  city hall \\n council chambers\\n 12 journey \\n aliso viejo, ca\\n   mayor tiffany ackley\\n mayor pro tem ross chun\\n councilmember david c. \\nharrington\\n councilmember richard w. hurt\\n councilmember mike munzing\\n   special notice regarding covid\\n-19    on march 4, 2020, governor newsom proclaimed a state of emergency in california as a \\nresult of the threat of covid\\n-19. on march 12, 2020, \\ngovernor newsom issued executive \\norder n\\n-25-20, which allows council members to attend city council meetings telephonically. \\nplease be advised that some, or all, of the aliso viejo city council members may attend this \\nmeeting telephonically.\\n    on \\nmarch 17, 2020, governor newsom issued executive order n\\n-29-20, which allows for the \\npublic to participate in any meeting of the city council by electronic means. given the health \\nrisks associated with covid\\n-19, the city of aliso viejo will not have the co\\nuncil chambers \\nopen to the public for this meeting. members of the public may view the meeting live on cox \\ncommunications channel 851, at&t u\\n-verse channel 99 or on the citys website \\nat www.avcity.org\\n.    public comments can be submitted via email to\\n community\\n-input@avcity.org\\n or by calling \\n(949) 425\\n-2509 to leave a recorded message. comments are limited to three minutes each. \\nrecorded comments \\nmust be submitted by 4:00 p.m. on\\n the day of the meeting.\\n          2 welcome to the city of aliso viejo city council meeting.\\n    it is the citys intention to comply with the americans with disabilities act (ada). if you need special assistance \\nto \\nparticipate in the meeting, the city will make reasonable arrangements to ensure accessibility and/or \\naccommodations. [28 cfr 35.102\\n-35.104 ada title ii] please contact the city clerks office at (949) 425\\n-2505 \\nat least 48 hours prior to the meeting.\\n    regular meetings of the city council are held on the first and third wednesday of the month at the city hall \\ncouncil chambers, 12 journey, aliso viejo. copies of the agenda are available in the lobby at city hall \\npreceding a regularly scheduled city counci\\nl meeting. supplemental documents relating to specific agenda \\nitems, including communications received after agenda delivery, are presented to the city council and are \\navailable for review in the city clerks office, 12 journey, aliso viejo. for more infor\\nmation, please contact city \\nhall at (949)\\n 425\\n-2505.\\n    this meeting will be broadcast live on cox communications channel 851, at&t u\\n-verse channel 99 and the \\ncity's website. by attending the city council meeting, you are giving your permission to be televi\\nsed. the \\ncouncil meetings are rebroadcast on wednesday at 7:00 p.m. on cox communications channel 851, at&t u\\n-verse channel 99, and can be viewed on the internet at\\n www.avcity.org\\n.    david a. doyle\\n scott c. smith\\n mitzi ortiz\\n city manager\\n city \\nattorney\\n city clerk\\n   please silence all cell phones and other\\n electronic equipment while city council is in session\\n   call to order: convene special meeting\\n    public comments:\\n    closed session:\\n    conference with legal counsel\\n- anticipated \\nlitigation\\n significant exposure to litigation pursuant to government code section 54956.9(d)(2)\\n number of potential cases: 1\\n  conference with real property negotiators\\n pursuant to government code section 54956.8\\n property: 35 playa circle\\n agency negotiator: city manager \\n negotiating parties: city of aliso viejo and owner of record \\n under negotiation: price and terms of purchase offer\\n  public employee performance evaluation\\n pursuant to government code section 54957\\n title: city \\nattorney\\n (initiated by mayor pro tem chun)\\n   3 call to order:  convene regular meeting\\n    roll call\\n    pledge of allegiance:\\n    report from closed session:\\n    1. special presentations:\\n   1.1.\\n recognition of 2020 mayor\\n 1.2.\\n proclamation \\n- black history \\nmonth\\n (hurt)\\n  proclamation\\n  2. additions, deletions, reordering to the agenda:\\n    3. community input:\\n  members of the public wishing to address the city council can submit public comments \\nvia email to \\ncommunity\\n-input@avcity.org\\n or by calling (949) 425\\n-2509 to leave a \\nrecorded message.  recorded comments must\\n be submitted by 4:00 p.m. on the day of \\nthe meeting.  written comments will be read into the record and recorded messages will \\n\\nbe aired during the meeting.  comments are limited to three (3) minutes each. in \\n\\ncompliance with the brown act, no discussion or\\n action may be taken on comments \\nreceived at this time, except the city council may briefly respond to statements made or \\n\\nquestions posed.\\n   4. consent calendar:\\n  all matters listed on the consent calendar will be acted upon by one vote unless \\nmembers of the city council, or staff request a matter to be discussed and/or removed \\n\\nfrom the consent calendar for separate action. items removed from the consent \\n\\ncalendar wi\\nll be discussed and voted upon immediately following city council action on \\nthe remainder of the consent calendar. \\n  4.1.\\n waive the reading of all ordinances and resolutions\\n recommended action:\\n approve the reading by title only of all ordinances and \\nresolutions wherein the titles appear on the public agenda; said titles shall be \\ndetermined to have been read by title, and further reading is waived.\\n 4.2.\\n approval of minutes \\n november 18, \\n2020 special meeting, november \\n18, 2020 regular meeting and december 9, 2020 special meeting\\n recommended action:\\n approve the subject minutes as submitted.\\n   4 draft minutes \\n- november 18, 2020 special meeting\\n draft minutes \\n- november 18, 2020 regular meeting\\n draft minutes \\n- december 9, 2020 special meeting\\n 4.3.\\n accounts payable\\n recommended action: \\n 1. ratify accounts payable checks and electronic funds transfers issued november 05, \\n2020 in the amount of $879,957.39;\\n 2. ratify accounts payable checks and electronic \\nfunds transfers issued november 12, \\n2020 in the amount of $210,923.13;\\n 3. ratify accounts payable checks and electronic funds transfers issued november 19, \\n2020 in the amount of $2,400,811.79;\\n 4. ratify accounts payable checks and electronic funds transfer\\ns issued december 03, \\n2020 in the amount of $174,116.50;\\n 5. ratify accounts payable checks and electronic funds transfers issued december 10, \\n2020 in the amount of $1,004,009.09;\\n 6. ratify accounts payable checks and electronic funds transfers issued decem\\nber 17, \\n2020 in the amount of $220,665.34\\n; and 7. ratify accounts payable checks and electronic funds transfers issued december 30, \\n2020 in the amount of $1,604,871.93\\n. staff report\\n attachment 1 \\n- accounts payable report\\n 4.4.\\n treasurers statements \\n october and \\nnovember 2020\\n recommended action:\\n approve october and november 2020 treasurers statements\\n. staff report\\n attachment 1 \\n- oct'20 treasurer's report\\n attachment 2 \\n- nov'20 treasurer's report\\n 4.5.\\n release of bonds \\nfor the grading and landscaping improvements \\nat the 4 orion self storage project\\n recommended action:\\n adopt a resolution exonerating the grading and landscaping \\nsurety bond no. 9296896 for the 4 orion self storage project.\\n staff report\\n attachment 1 \\n- resolution\\n 4.6.\\n release of bonds for the landscaping at the 95 enterprise fitness \\ncenter project\\n recommended action:\\n adopt a resolution exonerating the landscaping performance \\nbond no. 107137510 for the 95 enterprise fitness center project.\\n staff report\\n attachment 1 \\n- resolution\\n 4.7.\\n release of bond for the landscaping at the 95 enterprise \\n ente\\nrprise quarter project\\n recommended action:\\n adopt a resolution exonerating the landscaping performance \\nbond no. su60917 for 95 enterprise \\n enterprise quarter project.\\n   5 staff report\\n attachment 1 \\n- resolution\\n  5. public hearings:\\n   5.1.\\n traffic violator apprehension program fee (tvap)\\n recommended action:\\n adopt a resolution entitled: a resolution of the city \\ncouncil of the city of aliso viejo, california, authorizing the \\norange county sheriffs department to collect its updated fee \\nfor the traffic violator apprehension program in the city.\\n staff report\\n attachment 1 \\n- resolution\\n 5.2.\\n request to approve planning application pa18\\n-020 (cup/aup\\n) for a \\nconditional use permit to establish a distillery, microbrewery, \\nand tasting room; an administrative use permit to operate with \\ntype 6, 23, and 74 licenses from the department of alcoholic \\nbeverage control; and an administrative use permit for \\nmanuf\\nacturing of alcoholic beverages from the property \\nlocated at  7 journey \\n recommended action: \\n 1. open and conduct a public hearing;\\n 2. find that the request is exempt from the california environmental quality act \\npursuant to state ceqa guidelines \\nsections 15301 (existing facilities); and\\n 3. adopt a resolution approving planning application pa18\\n-20 (cup/aup) for a \\nconditional use permit to establish a distillery, microbrewery, and tasting room; an \\nadministrative use permit to operate with type 6, 23\\n, and 74 licenses from the \\ndepartment of alcoholic beverage control; and an administrative use permit for \\nmanufacturing of alcoholic beverages from the property at 7 journey.\\n staff report\\n attachment 1 \\n- resolution\\n attachment 2 \\n- applicant project description\\n attachment 3 \\n- aliso viejo police services analysis\\n attachment 4 \\n- project plans\\n attachment 5 \\n- presentation\\n  6. discussion:\\n   6.1.\\n salary schedule and benefit update\\n recommended \\naction:\\n adopt a resolution approving a salary schedule and benefits \\nfor city of aliso viejo employees.\\n staff report\\n attachment 1 \\n- resolution\\n     6 6.2.\\n ordinance approving the use of online or electronic filing of \\ncampaign statements and statements of economic interest\\n recommended action:\\n introduce and approve first reading of an ordinance entitled: \\nan ordina\\nnce of the city council of the city of aliso viejo, \\ncalifornia, adding section 2.04.140 to chapter 2.04 of title 2 of the \\naliso viejo municipal code regarding electronic and paper \\nmethods of filing campaign finance disclosure statements and \\nstatements of e\\nconomic interests.\\n staff report\\n attachment 1 \\n- ordinance\\n 6.3.\\n discussion of city council meeting cancellations and municipal \\ncode section 2.04 (ackley)\\n  oral presentation only\\n recommended action:\\n discuss city council meeting cancellations and municipal \\ncode section 2.0\\n4.  7. city manager' s report:\\n    8. announcements / council comments / committee updates:\\n    9. adjournment:\\n    the next regularly scheduled city council meeting is february 3, 2021.\\n  \""
            ]
          },
          "metadata": {
            "tags": []
          },
          "execution_count": 14
        }
      ]
    },
    {
      "cell_type": "code",
      "metadata": {
        "id": "tTALJ5fo2EZe"
      },
      "source": [
        "text = text.decode('ISO-8859-1')"
      ],
      "execution_count": null,
      "outputs": []
    },
    {
      "cell_type": "code",
      "metadata": {
        "colab": {
          "base_uri": "https://localhost:8080/"
        },
        "id": "2CHqiE0T1H2m",
        "outputId": "d6f2c4ec-3f14-473b-aa1c-c0749abec4c2"
      },
      "source": [
        "keywords = re.findall(r'[a-zA-Z]\\w+',text)\n",
        "len(keywords)   "
      ],
      "execution_count": null,
      "outputs": [
        {
          "output_type": "execute_result",
          "data": {
            "text/plain": [
              "1375"
            ]
          },
          "metadata": {
            "tags": []
          },
          "execution_count": 16
        }
      ]
    },
    {
      "cell_type": "code",
      "metadata": {
        "id": "rfImL3zs2KIV"
      },
      "source": [
        "df = pd.DataFrame(list(set(keywords)),columns=['keywords'])  #Dataframe with unique keywords to avoid repetition in rows\n"
      ],
      "execution_count": null,
      "outputs": []
    },
    {
      "cell_type": "code",
      "metadata": {
        "colab": {
          "base_uri": "https://localhost:8080/",
          "height": 359
        },
        "id": "PJ6MCgVU2MTF",
        "outputId": "83236fe5-c939-4ed5-c137-8d930ed936fd"
      },
      "source": [
        "df.head(10)"
      ],
      "execution_count": null,
      "outputs": [
        {
          "output_type": "execute_result",
          "data": {
            "text/html": [
              "<div>\n",
              "<style scoped>\n",
              "    .dataframe tbody tr th:only-of-type {\n",
              "        vertical-align: middle;\n",
              "    }\n",
              "\n",
              "    .dataframe tbody tr th {\n",
              "        vertical-align: top;\n",
              "    }\n",
              "\n",
              "    .dataframe thead th {\n",
              "        text-align: right;\n",
              "    }\n",
              "</style>\n",
              "<table border=\"1\" class=\"dataframe\">\n",
              "  <thead>\n",
              "    <tr style=\"text-align: right;\">\n",
              "      <th></th>\n",
              "      <th>keywords</th>\n",
              "    </tr>\n",
              "  </thead>\n",
              "  <tbody>\n",
              "    <tr>\n",
              "      <th>0</th>\n",
              "      <td>communications</td>\n",
              "    </tr>\n",
              "    <tr>\n",
              "      <th>1</th>\n",
              "      <td>pa18</td>\n",
              "    </tr>\n",
              "    <tr>\n",
              "      <th>2</th>\n",
              "      <td>broadcast</td>\n",
              "    </tr>\n",
              "    <tr>\n",
              "      <th>3</th>\n",
              "      <td>checks</td>\n",
              "    </tr>\n",
              "    <tr>\n",
              "      <th>4</th>\n",
              "      <td>with</td>\n",
              "    </tr>\n",
              "    <tr>\n",
              "      <th>5</th>\n",
              "      <td>convene</td>\n",
              "    </tr>\n",
              "    <tr>\n",
              "      <th>6</th>\n",
              "      <td>except</td>\n",
              "    </tr>\n",
              "    <tr>\n",
              "      <th>7</th>\n",
              "      <td>written</td>\n",
              "    </tr>\n",
              "    <tr>\n",
              "      <th>8</th>\n",
              "      <td>black</td>\n",
              "    </tr>\n",
              "    <tr>\n",
              "      <th>9</th>\n",
              "      <td>scott</td>\n",
              "    </tr>\n",
              "  </tbody>\n",
              "</table>\n",
              "</div>"
            ],
            "text/plain": [
              "         keywords\n",
              "0  communications\n",
              "1            pa18\n",
              "2       broadcast\n",
              "3          checks\n",
              "4            with\n",
              "5         convene\n",
              "6          except\n",
              "7         written\n",
              "8           black\n",
              "9           scott"
            ]
          },
          "metadata": {
            "tags": []
          },
          "execution_count": 19
        }
      ]
    },
    {
      "cell_type": "code",
      "metadata": {
        "id": "S4LGtm2V2o1b"
      },
      "source": [
        "def weightage(word,text,number_of_documents=1):\n",
        "    word_list = re.findall(word,text)\n",
        "    number_of_times_word_appeared =len(word_list)\n",
        "    tf = number_of_times_word_appeared/float(len(text))\n",
        "    idf = np.log((number_of_documents)/float(number_of_times_word_appeared))\n",
        "    tf_idf = tf*idf\n",
        "    return number_of_times_word_appeared,tf,idf ,tf_idf"
      ],
      "execution_count": null,
      "outputs": []
    },
    {
      "cell_type": "code",
      "metadata": {
        "id": "bt2u9ggP2t1Z"
      },
      "source": [
        "df['number_of_times_word_appeared'] = df['keywords'].apply(lambda x: weightage(x,text)[0])\n",
        "df['tf'] = df['keywords'].apply(lambda x: weightage(x,text)[1])\n",
        "df['idf'] = df['keywords'].apply(lambda x: weightage(x,text)[2])\n",
        "df['tf_idf'] = df['keywords'].apply(lambda x: weightage(x,text)[3])"
      ],
      "execution_count": null,
      "outputs": []
    },
    {
      "cell_type": "code",
      "metadata": {
        "colab": {
          "base_uri": "https://localhost:8080/",
          "height": 824
        },
        "id": "2vtHG_AI2wWV",
        "outputId": "2471539e-a3aa-4a29-f6c4-e01253931dd6"
      },
      "source": [
        "\n",
        "df = df.sort_values('tf_idf',ascending=True)\n",
        "df.to_csv('Keywords.csv')\n",
        "df.head(25)"
      ],
      "execution_count": null,
      "outputs": [
        {
          "output_type": "execute_result",
          "data": {
            "text/html": [
              "<div>\n",
              "<style scoped>\n",
              "    .dataframe tbody tr th:only-of-type {\n",
              "        vertical-align: middle;\n",
              "    }\n",
              "\n",
              "    .dataframe tbody tr th {\n",
              "        vertical-align: top;\n",
              "    }\n",
              "\n",
              "    .dataframe thead th {\n",
              "        text-align: right;\n",
              "    }\n",
              "</style>\n",
              "<table border=\"1\" class=\"dataframe\">\n",
              "  <thead>\n",
              "    <tr style=\"text-align: right;\">\n",
              "      <th></th>\n",
              "      <th>keywords</th>\n",
              "      <th>number_of_times_word_appeared</th>\n",
              "      <th>tf</th>\n",
              "      <th>idf</th>\n",
              "      <th>tf_idf</th>\n",
              "    </tr>\n",
              "  </thead>\n",
              "  <tbody>\n",
              "    <tr>\n",
              "      <th>377</th>\n",
              "      <td>on</td>\n",
              "      <td>145</td>\n",
              "      <td>0.013664</td>\n",
              "      <td>-4.976734</td>\n",
              "      <td>-0.068001</td>\n",
              "    </tr>\n",
              "    <tr>\n",
              "      <th>362</th>\n",
              "      <td>in</td>\n",
              "      <td>126</td>\n",
              "      <td>0.011873</td>\n",
              "      <td>-4.836282</td>\n",
              "      <td>-0.057423</td>\n",
              "    </tr>\n",
              "    <tr>\n",
              "      <th>160</th>\n",
              "      <td>co</td>\n",
              "      <td>118</td>\n",
              "      <td>0.011119</td>\n",
              "      <td>-4.770685</td>\n",
              "      <td>-0.053048</td>\n",
              "    </tr>\n",
              "    <tr>\n",
              "      <th>378</th>\n",
              "      <td>an</td>\n",
              "      <td>109</td>\n",
              "      <td>0.010271</td>\n",
              "      <td>-4.691348</td>\n",
              "      <td>-0.048187</td>\n",
              "    </tr>\n",
              "    <tr>\n",
              "      <th>13</th>\n",
              "      <td>it</td>\n",
              "      <td>104</td>\n",
              "      <td>0.009800</td>\n",
              "      <td>-4.644391</td>\n",
              "      <td>-0.045516</td>\n",
              "    </tr>\n",
              "    <tr>\n",
              "      <th>145</th>\n",
              "      <td>at</td>\n",
              "      <td>102</td>\n",
              "      <td>0.009612</td>\n",
              "      <td>-4.624973</td>\n",
              "      <td>-0.044454</td>\n",
              "    </tr>\n",
              "    <tr>\n",
              "      <th>264</th>\n",
              "      <td>or</td>\n",
              "      <td>95</td>\n",
              "      <td>0.008952</td>\n",
              "      <td>-4.553877</td>\n",
              "      <td>-0.040767</td>\n",
              "    </tr>\n",
              "    <tr>\n",
              "      <th>374</th>\n",
              "      <td>the</td>\n",
              "      <td>88</td>\n",
              "      <td>0.008292</td>\n",
              "      <td>-4.477337</td>\n",
              "      <td>-0.037128</td>\n",
              "    </tr>\n",
              "    <tr>\n",
              "      <th>357</th>\n",
              "      <td>is</td>\n",
              "      <td>62</td>\n",
              "      <td>0.005842</td>\n",
              "      <td>-4.127134</td>\n",
              "      <td>-0.024113</td>\n",
              "    </tr>\n",
              "    <tr>\n",
              "      <th>313</th>\n",
              "      <td>of</td>\n",
              "      <td>58</td>\n",
              "      <td>0.005466</td>\n",
              "      <td>-4.060443</td>\n",
              "      <td>-0.022192</td>\n",
              "    </tr>\n",
              "    <tr>\n",
              "      <th>366</th>\n",
              "      <td>be</td>\n",
              "      <td>50</td>\n",
              "      <td>0.004712</td>\n",
              "      <td>-3.912023</td>\n",
              "      <td>-0.018432</td>\n",
              "    </tr>\n",
              "    <tr>\n",
              "      <th>50</th>\n",
              "      <td>to</td>\n",
              "      <td>49</td>\n",
              "      <td>0.004617</td>\n",
              "      <td>-3.891820</td>\n",
              "      <td>-0.017970</td>\n",
              "    </tr>\n",
              "    <tr>\n",
              "      <th>127</th>\n",
              "      <td>and</td>\n",
              "      <td>49</td>\n",
              "      <td>0.004617</td>\n",
              "      <td>-3.891820</td>\n",
              "      <td>-0.017970</td>\n",
              "    </tr>\n",
              "    <tr>\n",
              "      <th>19</th>\n",
              "      <td>city</td>\n",
              "      <td>46</td>\n",
              "      <td>0.004335</td>\n",
              "      <td>-3.828641</td>\n",
              "      <td>-0.016596</td>\n",
              "    </tr>\n",
              "    <tr>\n",
              "      <th>31</th>\n",
              "      <td>ca</td>\n",
              "      <td>43</td>\n",
              "      <td>0.004052</td>\n",
              "      <td>-3.761200</td>\n",
              "      <td>-0.015240</td>\n",
              "    </tr>\n",
              "    <tr>\n",
              "      <th>415</th>\n",
              "      <td>ll</td>\n",
              "      <td>35</td>\n",
              "      <td>0.003298</td>\n",
              "      <td>-3.555348</td>\n",
              "      <td>-0.011726</td>\n",
              "    </tr>\n",
              "    <tr>\n",
              "      <th>22</th>\n",
              "      <td>ber</td>\n",
              "      <td>29</td>\n",
              "      <td>0.002733</td>\n",
              "      <td>-3.367296</td>\n",
              "      <td>-0.009202</td>\n",
              "    </tr>\n",
              "    <tr>\n",
              "      <th>126</th>\n",
              "      <td>pro</td>\n",
              "      <td>29</td>\n",
              "      <td>0.002733</td>\n",
              "      <td>-3.367296</td>\n",
              "      <td>-0.009202</td>\n",
              "    </tr>\n",
              "    <tr>\n",
              "      <th>99</th>\n",
              "      <td>meeting</td>\n",
              "      <td>28</td>\n",
              "      <td>0.002639</td>\n",
              "      <td>-3.332205</td>\n",
              "      <td>-0.008792</td>\n",
              "    </tr>\n",
              "    <tr>\n",
              "      <th>189</th>\n",
              "      <td>uncil</td>\n",
              "      <td>27</td>\n",
              "      <td>0.002544</td>\n",
              "      <td>-3.295837</td>\n",
              "      <td>-0.008386</td>\n",
              "    </tr>\n",
              "    <tr>\n",
              "      <th>268</th>\n",
              "      <td>counci</td>\n",
              "      <td>27</td>\n",
              "      <td>0.002544</td>\n",
              "      <td>-3.295837</td>\n",
              "      <td>-0.008386</td>\n",
              "    </tr>\n",
              "    <tr>\n",
              "      <th>236</th>\n",
              "      <td>council</td>\n",
              "      <td>26</td>\n",
              "      <td>0.002450</td>\n",
              "      <td>-3.258097</td>\n",
              "      <td>-0.007983</td>\n",
              "    </tr>\n",
              "    <tr>\n",
              "      <th>228</th>\n",
              "      <td>for</td>\n",
              "      <td>25</td>\n",
              "      <td>0.002356</td>\n",
              "      <td>-3.218876</td>\n",
              "      <td>-0.007583</td>\n",
              "    </tr>\n",
              "    <tr>\n",
              "      <th>267</th>\n",
              "      <td>as</td>\n",
              "      <td>23</td>\n",
              "      <td>0.002167</td>\n",
              "      <td>-3.135494</td>\n",
              "      <td>-0.006796</td>\n",
              "    </tr>\n",
              "    <tr>\n",
              "      <th>149</th>\n",
              "      <td>act</td>\n",
              "      <td>23</td>\n",
              "      <td>0.002167</td>\n",
              "      <td>-3.135494</td>\n",
              "      <td>-0.006796</td>\n",
              "    </tr>\n",
              "  </tbody>\n",
              "</table>\n",
              "</div>"
            ],
            "text/plain": [
              "    keywords  number_of_times_word_appeared        tf       idf    tf_idf\n",
              "377       on                            145  0.013664 -4.976734 -0.068001\n",
              "362       in                            126  0.011873 -4.836282 -0.057423\n",
              "160       co                            118  0.011119 -4.770685 -0.053048\n",
              "378       an                            109  0.010271 -4.691348 -0.048187\n",
              "13        it                            104  0.009800 -4.644391 -0.045516\n",
              "145       at                            102  0.009612 -4.624973 -0.044454\n",
              "264       or                             95  0.008952 -4.553877 -0.040767\n",
              "374      the                             88  0.008292 -4.477337 -0.037128\n",
              "357       is                             62  0.005842 -4.127134 -0.024113\n",
              "313       of                             58  0.005466 -4.060443 -0.022192\n",
              "366       be                             50  0.004712 -3.912023 -0.018432\n",
              "50        to                             49  0.004617 -3.891820 -0.017970\n",
              "127      and                             49  0.004617 -3.891820 -0.017970\n",
              "19      city                             46  0.004335 -3.828641 -0.016596\n",
              "31        ca                             43  0.004052 -3.761200 -0.015240\n",
              "415       ll                             35  0.003298 -3.555348 -0.011726\n",
              "22       ber                             29  0.002733 -3.367296 -0.009202\n",
              "126      pro                             29  0.002733 -3.367296 -0.009202\n",
              "99   meeting                             28  0.002639 -3.332205 -0.008792\n",
              "189    uncil                             27  0.002544 -3.295837 -0.008386\n",
              "268   counci                             27  0.002544 -3.295837 -0.008386\n",
              "236  council                             26  0.002450 -3.258097 -0.007983\n",
              "228      for                             25  0.002356 -3.218876 -0.007583\n",
              "267       as                             23  0.002167 -3.135494 -0.006796\n",
              "149      act                             23  0.002167 -3.135494 -0.006796"
            ]
          },
          "metadata": {
            "tags": []
          },
          "execution_count": 22
        }
      ]
    },
    {
      "cell_type": "code",
      "metadata": {
        "id": "vXjWoNt82yW9"
      },
      "source": [
        "from gensim.summarization import keywords\n",
        "import warnings\n",
        "warnings.filterwarnings(\"ignore\")"
      ],
      "execution_count": null,
      "outputs": []
    },
    {
      "cell_type": "code",
      "metadata": {
        "id": "tEYIbrm321hv"
      },
      "source": [
        "values = keywords(text=text,split='\\n',scores=True)"
      ],
      "execution_count": null,
      "outputs": []
    },
    {
      "cell_type": "code",
      "metadata": {
        "colab": {
          "base_uri": "https://localhost:8080/",
          "height": 359
        },
        "id": "YcMNC0iJ26Sg",
        "outputId": "d0ca9ca7-22fe-4f92-f69f-44cdc6695c78"
      },
      "source": [
        "data = pd.DataFrame(values,columns=['keyword','score'])\n",
        "data = data.sort_values('score',ascending=False)\n",
        "data.head(10)"
      ],
      "execution_count": null,
      "outputs": [
        {
          "output_type": "execute_result",
          "data": {
            "text/html": [
              "<div>\n",
              "<style scoped>\n",
              "    .dataframe tbody tr th:only-of-type {\n",
              "        vertical-align: middle;\n",
              "    }\n",
              "\n",
              "    .dataframe tbody tr th {\n",
              "        vertical-align: top;\n",
              "    }\n",
              "\n",
              "    .dataframe thead th {\n",
              "        text-align: right;\n",
              "    }\n",
              "</style>\n",
              "<table border=\"1\" class=\"dataframe\">\n",
              "  <thead>\n",
              "    <tr style=\"text-align: right;\">\n",
              "      <th></th>\n",
              "      <th>keyword</th>\n",
              "      <th>score</th>\n",
              "    </tr>\n",
              "  </thead>\n",
              "  <tbody>\n",
              "    <tr>\n",
              "      <th>0</th>\n",
              "      <td>citys</td>\n",
              "      <td>0.332018</td>\n",
              "    </tr>\n",
              "    <tr>\n",
              "      <th>2</th>\n",
              "      <td>meetings</td>\n",
              "      <td>0.264038</td>\n",
              "    </tr>\n",
              "    <tr>\n",
              "      <th>1</th>\n",
              "      <td>meeting</td>\n",
              "      <td>0.264038</td>\n",
              "    </tr>\n",
              "    <tr>\n",
              "      <th>3</th>\n",
              "      <td>attachment</td>\n",
              "      <td>0.166304</td>\n",
              "    </tr>\n",
              "    <tr>\n",
              "      <th>4</th>\n",
              "      <td>special</td>\n",
              "      <td>0.157443</td>\n",
              "    </tr>\n",
              "    <tr>\n",
              "      <th>5</th>\n",
              "      <td>agenda aliso viejo city council</td>\n",
              "      <td>0.152482</td>\n",
              "    </tr>\n",
              "    <tr>\n",
              "      <th>6</th>\n",
              "      <td>public</td>\n",
              "      <td>0.151027</td>\n",
              "    </tr>\n",
              "    <tr>\n",
              "      <th>7</th>\n",
              "      <td>action</td>\n",
              "      <td>0.149918</td>\n",
              "    </tr>\n",
              "    <tr>\n",
              "      <th>8</th>\n",
              "      <td>sections</td>\n",
              "      <td>0.134969</td>\n",
              "    </tr>\n",
              "    <tr>\n",
              "      <th>9</th>\n",
              "      <td>comments</td>\n",
              "      <td>0.133481</td>\n",
              "    </tr>\n",
              "  </tbody>\n",
              "</table>\n",
              "</div>"
            ],
            "text/plain": [
              "                           keyword     score\n",
              "0                            citys  0.332018\n",
              "2                         meetings  0.264038\n",
              "1                          meeting  0.264038\n",
              "3                       attachment  0.166304\n",
              "4                          special  0.157443\n",
              "5  agenda aliso viejo city council  0.152482\n",
              "6                           public  0.151027\n",
              "7                           action  0.149918\n",
              "8                         sections  0.134969\n",
              "9                         comments  0.133481"
            ]
          },
          "metadata": {
            "tags": []
          },
          "execution_count": 25
        }
      ]
    },
    {
      "cell_type": "code",
      "metadata": {
        "colab": {
          "base_uri": "https://localhost:8080/"
        },
        "id": "zSqook7I3AKw",
        "outputId": "1a2ce598-5f70-4b28-f316-f55144f74126"
      },
      "source": [
        "!pip install rake_nltk"
      ],
      "execution_count": null,
      "outputs": [
        {
          "output_type": "stream",
          "text": [
            "Collecting rake_nltk\n",
            "  Downloading https://files.pythonhosted.org/packages/8e/c4/b4ff57e541ac5624ad4b20b89c2bafd4e98f29fd83139f3a81858bdb3815/rake_nltk-1.0.4.tar.gz\n",
            "Requirement already satisfied: nltk in /usr/local/lib/python3.7/dist-packages (from rake_nltk) (3.2.5)\n",
            "Requirement already satisfied: six in /usr/local/lib/python3.7/dist-packages (from nltk->rake_nltk) (1.12.0)\n",
            "Building wheels for collected packages: rake-nltk\n",
            "  Building wheel for rake-nltk (setup.py) ... \u001b[?25l\u001b[?25hdone\n",
            "  Created wheel for rake-nltk: filename=rake_nltk-1.0.4-py2.py3-none-any.whl size=7829 sha256=6c6f16b3fe30b770b9c90f2daff6474e0f2a8cd1ba8fef64fa37b4ab852e7c69\n",
            "  Stored in directory: /root/.cache/pip/wheels/ef/92/fc/271b3709e71a96ffe934b27818946b795ac6b9b8ff8682483f\n",
            "Successfully built rake-nltk\n",
            "Installing collected packages: rake-nltk\n",
            "Successfully installed rake-nltk-1.0.4\n"
          ],
          "name": "stdout"
        }
      ]
    },
    {
      "cell_type": "code",
      "metadata": {
        "id": "3MIPRfgg298M"
      },
      "source": [
        "from rake_nltk import Rake"
      ],
      "execution_count": null,
      "outputs": []
    },
    {
      "cell_type": "code",
      "metadata": {
        "id": "wWcOPcrM3FJQ"
      },
      "source": [
        "r = Rake()\n",
        "r.extract_keywords_from_text(text)"
      ],
      "execution_count": null,
      "outputs": []
    },
    {
      "cell_type": "code",
      "metadata": {
        "id": "CLgtlRZ23Foy"
      },
      "source": [
        "phrases = r.get_ranked_phrases_with_scores()"
      ],
      "execution_count": null,
      "outputs": []
    },
    {
      "cell_type": "code",
      "metadata": {
        "id": "tLgLE0583IrX",
        "colab": {
          "base_uri": "https://localhost:8080/",
          "height": 359
        },
        "outputId": "3a0d5d3c-ded2-41e2-a886-b701ec1b8736"
      },
      "source": [
        "table = pd.DataFrame(phrases,columns=['score','Phrase'])\n",
        "table = table.sort_values('score',ascending=False)\n",
        "table.head(10)"
      ],
      "execution_count": null,
      "outputs": [
        {
          "output_type": "execute_result",
          "data": {
            "text/html": [
              "<div>\n",
              "<style scoped>\n",
              "    .dataframe tbody tr th:only-of-type {\n",
              "        vertical-align: middle;\n",
              "    }\n",
              "\n",
              "    .dataframe tbody tr th {\n",
              "        vertical-align: top;\n",
              "    }\n",
              "\n",
              "    .dataframe thead th {\n",
              "        text-align: right;\n",
              "    }\n",
              "</style>\n",
              "<table border=\"1\" class=\"dataframe\">\n",
              "  <thead>\n",
              "    <tr style=\"text-align: right;\">\n",
              "      <th></th>\n",
              "      <th>score</th>\n",
              "      <th>Phrase</th>\n",
              "    </tr>\n",
              "  </thead>\n",
              "  <tbody>\n",
              "    <tr>\n",
              "      <th>0</th>\n",
              "      <td>104.000000</td>\n",
              "      <td>ca mayor tiffany ackley mayor pro tem ross chu...</td>\n",
              "    </tr>\n",
              "    <tr>\n",
              "      <th>1</th>\n",
              "      <td>87.916667</td>\n",
              "      <td>smith mitzi ortiz city manager city attorney c...</td>\n",
              "    </tr>\n",
              "    <tr>\n",
              "      <th>2</th>\n",
              "      <td>74.676389</td>\n",
              "      <td>00 pm regular meeting city hall council chambe...</td>\n",
              "    </tr>\n",
              "    <tr>\n",
              "      <th>3</th>\n",
              "      <td>52.375000</td>\n",
              "      <td>hurt councilmember mike munzing special notice...</td>\n",
              "    </tr>\n",
              "    <tr>\n",
              "      <th>4</th>\n",
              "      <td>49.727273</td>\n",
              "      <td>95 enterprise ente rprise quarter project reco...</td>\n",
              "    </tr>\n",
              "    <tr>\n",
              "      <th>5</th>\n",
              "      <td>41.224026</td>\n",
              "      <td>aliso viejo police services analysis attachment 4</td>\n",
              "    </tr>\n",
              "    <tr>\n",
              "      <th>6</th>\n",
              "      <td>40.858225</td>\n",
              "      <td>electronic funds transfers issued decem ber 17</td>\n",
              "    </tr>\n",
              "    <tr>\n",
              "      <th>7</th>\n",
              "      <td>40.600000</td>\n",
              "      <td>purchase offer public employee performance eva...</td>\n",
              "    </tr>\n",
              "    <tr>\n",
              "      <th>8</th>\n",
              "      <td>40.354167</td>\n",
              "      <td>voted upon immediately following city council ...</td>\n",
              "    </tr>\n",
              "    <tr>\n",
              "      <th>9</th>\n",
              "      <td>39.227273</td>\n",
              "      <td>95 enterprise fitness center project recommend...</td>\n",
              "    </tr>\n",
              "  </tbody>\n",
              "</table>\n",
              "</div>"
            ],
            "text/plain": [
              "        score                                             Phrase\n",
              "0  104.000000  ca mayor tiffany ackley mayor pro tem ross chu...\n",
              "1   87.916667  smith mitzi ortiz city manager city attorney c...\n",
              "2   74.676389  00 pm regular meeting city hall council chambe...\n",
              "3   52.375000  hurt councilmember mike munzing special notice...\n",
              "4   49.727273  95 enterprise ente rprise quarter project reco...\n",
              "5   41.224026  aliso viejo police services analysis attachment 4\n",
              "6   40.858225     electronic funds transfers issued decem ber 17\n",
              "7   40.600000  purchase offer public employee performance eva...\n",
              "8   40.354167  voted upon immediately following city council ...\n",
              "9   39.227273  95 enterprise fitness center project recommend..."
            ]
          },
          "metadata": {
            "tags": []
          },
          "execution_count": 31
        }
      ]
    }
  ]
}